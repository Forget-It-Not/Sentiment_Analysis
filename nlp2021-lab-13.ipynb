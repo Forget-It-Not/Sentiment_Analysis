{
 "cells": [
  {
   "cell_type": "markdown",
   "metadata": {},
   "source": [
    "# NLP PRACTICAL ASSIGNMENT\n",
    "\n",
    "\n",
    "***Marcos Martínez Jiménez***\n",
    "\n",
    "---"
   ]
  },
  {
   "cell_type": "markdown",
   "metadata": {},
   "source": [
    "<font color='red'>***ATTENTION:***</font> the execution of this notebook requires some additional files included in the deliverable .zip. These include:\n",
    "\n",
    "* Aspect terms, yelp datasets, modifiers.csv, ... provided for the assignment\n",
    "* Amazon food dataset (for task 1.3)\n",
    "> [too heavy to include in the deliverable, may be substituted for any other amazon dataset by changing the loading statement]\n",
    "* Precomputed results (like the positions of term aspects) so professors may check the final results of Task 5. without having to run cells that take very long.\n",
    "> [found in results folder]\n",
    "* Modified aspect terms files\n",
    "> [found in aspects folder]\n",
    "\n",
    "Futhermore, the function *advanced_parse_opinion* requires the Stanford CoreNLP service."
   ]
  },
  {
   "cell_type": "markdown",
   "metadata": {},
   "source": [
    "## Modules"
   ]
  },
  {
   "cell_type": "code",
   "execution_count": 1,
   "metadata": {},
   "outputs": [],
   "source": [
    "%load_ext autoreload\n",
    "%autoreload 2\n",
    "\n",
    "# module with all my code\n",
    "import nlp_code as nlp\n",
    "\n",
    "from IPython.display import clear_output\n",
    "from nltk.corpus import wordnet as wn\n",
    "from nltk.corpus import opinion_lexicon\n",
    "from tqdm import tqdm\n",
    "import pickle\n",
    "import pandas as pd\n",
    "import numpy as np\n",
    "import re"
   ]
  },
  {
   "cell_type": "markdown",
   "metadata": {},
   "source": [
    "## Task 1 - Review Datasets\n",
    "\n",
    "### Task 1.1 - Hotel Reviews"
   ]
  },
  {
   "cell_type": "code",
   "execution_count": 7,
   "metadata": {},
   "outputs": [
    {
     "name": "stdout",
     "output_type": "stream",
     "text": [
      "Reviews loaded: 5034. \n",
      "\n",
      "{'reviewerID': 'qLCpuCWCyPb4G2vN-WZz-Q', 'asin': '8ZwO9VuLDWJOXmtAdc7LXQ', 'summary': 'summary', 'reviewText': \"Great hotel in Central Phoenix for a stay-cation, but not necessarily a place to stay out of town and without a car. Not much around the area, and unless you're familiar with downtown, I would rather have a guest stay in Old Town Scottsdale, etc. BUT if you do stay here, it's awesome. Great boutique rooms. Awesome pool that's happening in the summer. A GREAT rooftop patio bar, and a very very busy lobby with Gallo Blanco attached. A great place to stay, but have a car!\", 'overall': 4.0} \n",
      "\n",
      "qLCpuCWCyPb4G2vN-WZz-Q\n"
     ]
    }
   ],
   "source": [
    "reviews = nlp.parse_batch('yelp_dataset/yelp_hotels.json')\n",
    "\n",
    "num_rev = len(reviews)\n",
    "print(f\"Reviews loaded: {num_rev}.\", \"\\n\")\n",
    "print(reviews[0], \"\\n\")\n",
    "print(reviews[0].get('reviewerID'))"
   ]
  },
  {
   "cell_type": "markdown",
   "metadata": {},
   "source": [
    "### Task 1.2 - Spa&Resorts and Restaurants Reviews\n",
    "\n",
    "***Spa&Resorts***"
   ]
  },
  {
   "cell_type": "code",
   "execution_count": 8,
   "metadata": {},
   "outputs": [
    {
     "name": "stdout",
     "output_type": "stream",
     "text": [
      "{'reviewerID': 'Xm8HXE1JHqscXe5BKf0GFQ', 'asin': 'WGNIYMeXPyoWav1APUq7jA', 'summary': 'summary', 'reviewText': \"Good tattoo shop. Clean space, multiple artists to choose from and books of their work are available for you to look though and decide who's style most mirrors what you're looking for. I chose Jet to do a cover-up for me and he worked with me on the design and our ideas and communication flowed very well. He's a very personable guy, is friendly and keeps the conversation going while he's working on you, and he doesn't dick around (read: He starts to work and continues until the job is done). He's very professional and informative. Good customer service combines with talent at the craft.\", 'overall': 4.0} \n",
      "\n",
      "Xm8HXE1JHqscXe5BKf0GFQ \n",
      "\n",
      "Reviews loaded: 5579.\n"
     ]
    }
   ],
   "source": [
    "line_parser = nlp.parse_lines('yelp_dataset/yelp_beauty_spas.json')\n",
    "\n",
    "num_rev = 0\n",
    "for entry in line_parser:\n",
    "    if num_rev==0:\n",
    "        print(entry, \"\\n\")\n",
    "        print(entry.get('reviewerID'), \"\\n\")\n",
    "    num_rev+=1\n",
    "print(f\"Reviews loaded: {num_rev}.\")"
   ]
  },
  {
   "cell_type": "markdown",
   "metadata": {},
   "source": [
    "***Restaurants***"
   ]
  },
  {
   "cell_type": "code",
   "execution_count": 9,
   "metadata": {},
   "outputs": [
    {
     "name": "stdout",
     "output_type": "stream",
     "text": [
      "{'reviewerID': 'rLtl8ZkDX5vH5nAx9C3q5Q', 'asin': '9yKzy9PApeiPPOUJEtnvkg', 'summary': 'summary', 'reviewText': 'My wife took me here on my birthday for breakfast and it was excellent. The weather was perfect which made sitting outside overlooking their grounds an absolute pleasure. Our waitress was excellent and our food arrived quickly on the semi-busy Saturday morning. It looked like the place fills up pretty quickly so the earlier you get here the better.Do yourself a favor and get their Bloody Mary. It was phenomenal and simply the best I\\'ve ever had. I\\'m pretty sure they only use ingredients from their garden and blend them fresh when you order it. It was amazing.While EVERYTHING on the menu looks excellent, I had the white truffle scrambled eggs vegetable skillet and it was tasty and delicious. It came with 2 pieces of their griddled bread with was amazing and it absolutely made the meal complete. It was the best \"toast\" I\\'ve ever had.Anyway, I can\\'t wait to go back!', 'overall': 5.0} \n",
      "\n",
      "rLtl8ZkDX5vH5nAx9C3q5Q \n",
      "\n",
      "Reviews loaded: 158430.\n"
     ]
    }
   ],
   "source": [
    "line_parser = nlp.parse_lines('yelp_dataset/yelp_restaurants.json')\n",
    "\n",
    "num_rev = 0\n",
    "for entry in line_parser:\n",
    "    if num_rev==0:\n",
    "        print(entry, \"\\n\")\n",
    "        print(entry.get('reviewerID'), \"\\n\")\n",
    "    num_rev+=1\n",
    "print(f\"Reviews loaded: {num_rev}.\")"
   ]
  },
  {
   "cell_type": "markdown",
   "metadata": {},
   "source": [
    "### Task 1.3 - Amazon Food Reviews"
   ]
  },
  {
   "cell_type": "code",
   "execution_count": 10,
   "metadata": {},
   "outputs": [
    {
     "name": "stdout",
     "output_type": "stream",
     "text": [
      "{'reviewerID': 'A1VEELTKS8NLZB', 'asin': '616719923X', 'reviewerName': 'Amazon Customer', 'helpful': [0, 0], 'reviewText': 'Just another flavor of Kit Kat but the taste is unique and a bit different.  The only thing that is bothersome is the price.  I thought it was a bit expensive....', 'overall': 4.0, 'summary': 'Good Taste', 'unixReviewTime': 1370044800, 'reviewTime': '06 1, 2013'} \n",
      "\n",
      "A1VEELTKS8NLZB \n",
      "\n",
      "Reviews loaded: 151254.\n"
     ]
    }
   ],
   "source": [
    "line_parser = nlp.parse_lines('yelp_dataset/amazon_food.json')\n",
    "\n",
    "num_rev = 0\n",
    "for entry in line_parser:\n",
    "    if num_rev==0:\n",
    "        print(entry, \"\\n\")\n",
    "        print(entry.get('reviewerID'), \"\\n\")\n",
    "    num_rev+=1\n",
    "print(f\"Reviews loaded: {num_rev}.\")"
   ]
  },
  {
   "cell_type": "markdown",
   "metadata": {},
   "source": [
    "## 2 - Aspect Vocabularies\n",
    "\n",
    "### 2.1 - Aspect Hotels\n",
    "\n",
    "***Load and print***"
   ]
  },
  {
   "cell_type": "code",
   "execution_count": 11,
   "metadata": {},
   "outputs": [
    {
     "data": {
      "text/html": [
       "<div>\n",
       "<style scoped>\n",
       "    .dataframe tbody tr th:only-of-type {\n",
       "        vertical-align: middle;\n",
       "    }\n",
       "\n",
       "    .dataframe tbody tr th {\n",
       "        vertical-align: top;\n",
       "    }\n",
       "\n",
       "    .dataframe thead th {\n",
       "        text-align: right;\n",
       "    }\n",
       "</style>\n",
       "<table border=\"1\" class=\"dataframe\">\n",
       "  <thead>\n",
       "    <tr style=\"text-align: right;\">\n",
       "      <th></th>\n",
       "      <th>aspect</th>\n",
       "      <th>term</th>\n",
       "    </tr>\n",
       "  </thead>\n",
       "  <tbody>\n",
       "    <tr>\n",
       "      <th>0</th>\n",
       "      <td>amenities</td>\n",
       "      <td>amenity</td>\n",
       "    </tr>\n",
       "    <tr>\n",
       "      <th>1</th>\n",
       "      <td>amenities</td>\n",
       "      <td>amenities</td>\n",
       "    </tr>\n",
       "    <tr>\n",
       "      <th>2</th>\n",
       "      <td>amenities</td>\n",
       "      <td>services</td>\n",
       "    </tr>\n",
       "    <tr>\n",
       "      <th>3</th>\n",
       "      <td>atmosphere</td>\n",
       "      <td>atmosphere</td>\n",
       "    </tr>\n",
       "    <tr>\n",
       "      <th>4</th>\n",
       "      <td>atmosphere</td>\n",
       "      <td>atmospheres</td>\n",
       "    </tr>\n",
       "    <tr>\n",
       "      <th>...</th>\n",
       "      <td>...</td>\n",
       "      <td>...</td>\n",
       "    </tr>\n",
       "    <tr>\n",
       "      <th>277</th>\n",
       "      <td>transportation</td>\n",
       "      <td>trains</td>\n",
       "    </tr>\n",
       "    <tr>\n",
       "      <th>278</th>\n",
       "      <td>transportation</td>\n",
       "      <td>tube</td>\n",
       "    </tr>\n",
       "    <tr>\n",
       "      <th>279</th>\n",
       "      <td>transportation</td>\n",
       "      <td>tubes</td>\n",
       "    </tr>\n",
       "    <tr>\n",
       "      <th>280</th>\n",
       "      <td>transportation</td>\n",
       "      <td>vehicle</td>\n",
       "    </tr>\n",
       "    <tr>\n",
       "      <th>281</th>\n",
       "      <td>transportation</td>\n",
       "      <td>vehicles</td>\n",
       "    </tr>\n",
       "  </tbody>\n",
       "</table>\n",
       "<p>282 rows × 2 columns</p>\n",
       "</div>"
      ],
      "text/plain": [
       "             aspect         term\n",
       "0         amenities      amenity\n",
       "1         amenities    amenities\n",
       "2         amenities     services\n",
       "3        atmosphere   atmosphere\n",
       "4        atmosphere  atmospheres\n",
       "..              ...          ...\n",
       "277  transportation       trains\n",
       "278  transportation         tube\n",
       "279  transportation        tubes\n",
       "280  transportation      vehicle\n",
       "281  transportation     vehicles\n",
       "\n",
       "[282 rows x 2 columns]"
      ]
     },
     "execution_count": 11,
     "metadata": {},
     "output_type": "execute_result"
    }
   ],
   "source": [
    "aspect_hotels = pd.read_csv(\"aspects/aspects_hotels.csv\", header=None, names=['aspect','term'])\n",
    "aspect_hotels"
   ]
  },
  {
   "cell_type": "markdown",
   "metadata": {},
   "source": [
    "***Find references #1***\n",
    "\n",
    "Literal matching of aspect terms to all reviews. For now, only the number of aspect terms matched in each review is registered."
   ]
  },
  {
   "cell_type": "code",
   "execution_count": null,
   "metadata": {},
   "outputs": [
    {
     "name": "stderr",
     "output_type": "stream",
     "text": [
      "Review progress: 100%|██████████| 5034/5034 [00:21<00:00, 232.16it/s]"
     ]
    },
    {
     "name": "stdout",
     "output_type": "stream",
     "text": [
      "{'bar': 1, 'building': 2, 'pool': 1, 'shopping': 1, 'transportation': 3}\n"
     ]
    },
    {
     "name": "stderr",
     "output_type": "stream",
     "text": [
      "\n"
     ]
    }
   ],
   "source": [
    "aspect_stats = []\n",
    "for i in tqdm(range(len(reviews)), desc=\"Review progress\"):\n",
    "    review = reviews[i]\n",
    "    text = review.get('reviewText')\n",
    "    aspect_stats.append(nlp.matchRE(text,aspect_hotels))\n",
    "    \n",
    "print(aspect_stats[0])"
   ]
  },
  {
   "cell_type": "markdown",
   "metadata": {},
   "source": [
    "And the +/- 5 character context of the identified terms is:"
   ]
  },
  {
   "cell_type": "code",
   "execution_count": null,
   "metadata": {},
   "outputs": [
    {
     "name": "stdout",
     "output_type": "stream",
     "text": [
      "Aspect: bar                 Term: bar            Context:top patio bar, and a ve\n",
      "Aspect: building            Term: lobby          Context:very busy lobby with Gall\n",
      "Aspect: building            Term: patio          Context:T rooftop patio bar, and \n",
      "Aspect: pool                Term: pool           Context:. Awesome pool that's ha\n",
      "Aspect: shopping            Term: boutique       Context:me. Great boutique rooms. Aw\n",
      "Aspect: transportation      Term: bus            Context:very very busy lobby wi\n",
      "Aspect: transportation      Term: car            Context:without a car. Not much\n",
      "Aspect: transportation      Term: car            Context: summer. A GREAT roofto\n"
     ]
    }
   ],
   "source": [
    "text = reviews[0].get('reviewText')\n",
    "nlp.matchRE(text, aspect_hotels, show_context=True)"
   ]
  },
  {
   "cell_type": "markdown",
   "metadata": {},
   "source": [
    "Problems with this implementation:\n",
    "\n",
    "* The aspects file includes some terms that can be matched to bigger words (such as bus <-> busy)\n",
    "* Some terms could be matched more than one time to the same word (towel <-> towels + towels <-> towels)\n",
    "\n",
    "In order to fix this the alternative implementation was developed:\n",
    "\n",
    "* Tokenize the text to match word by word instead of matching over the whole text (at most one term will be matched for each word)\n",
    "* Show the context of matches through a number of tokens instead of a number of characters\n",
    "* Develop a score function for string matching so that each word is matched to the only/best possible term (allowing a % of mismatch so word derivations can be picked up)"
   ]
  },
  {
   "cell_type": "markdown",
   "metadata": {},
   "source": [
    "***Find references #2***"
   ]
  },
  {
   "cell_type": "code",
   "execution_count": null,
   "metadata": {},
   "outputs": [
    {
     "name": "stderr",
     "output_type": "stream",
     "text": [
      "Review progress: 100%|██████████| 5034/5034 [01:15<00:00, 66.35it/s]"
     ]
    },
    {
     "name": "stdout",
     "output_type": "stream",
     "text": [
      "{'transportation': 2, 'shopping': 1, 'pool': 1, 'building': 2, 'bar': 1}\n"
     ]
    },
    {
     "name": "stderr",
     "output_type": "stream",
     "text": [
      "\n"
     ]
    }
   ],
   "source": [
    "aspect_stats = []\n",
    "for i in tqdm(range(len(reviews)), desc=\"Review progress\"):\n",
    "    review = reviews[i]\n",
    "    text = review.get('reviewText')\n",
    "    aspect_stats.append(nlp.match_token(text,aspect_hotels,tol=0.2))\n",
    "    \n",
    "print(aspect_stats[0])"
   ]
  },
  {
   "cell_type": "code",
   "execution_count": null,
   "metadata": {},
   "outputs": [
    {
     "name": "stdout",
     "output_type": "stream",
     "text": [
      "Aspect: transportation      Term: car            Context:and without a\u001b[01m\u001b[31m car \u001b[0m.\n",
      "Aspect: shopping            Term: boutique       Context:Great\u001b[01m\u001b[31m boutique \u001b[0mrooms .\n",
      "Aspect: pool                Term: pool           Context:Awesome\u001b[01m\u001b[31m pool \u001b[0mthat 's\n",
      "Aspect: building            Term: patio          Context:A GREAT rooftop\u001b[01m\u001b[31m patio \u001b[0mbar ,\n",
      "Aspect: bar                 Term: bar            Context:GREAT rooftop patio\u001b[01m\u001b[31m bar \u001b[0m, and\n",
      "Aspect: building            Term: lobby          Context:very very busy\u001b[01m\u001b[31m lobby \u001b[0mwith Gallo\n",
      "Aspect: transportation      Term: car            Context:but have a\u001b[01m\u001b[31m car \u001b[0m!\n"
     ]
    }
   ],
   "source": [
    "text = reviews[0].get('reviewText')\n",
    "nlp.match_token(text, aspect_hotels, tol=0.2, out=\"context\")"
   ]
  },
  {
   "cell_type": "markdown",
   "metadata": {},
   "source": [
    "This implementation should be able to pick up slight variations of the aspect terms (e.g. serbice instead of service), but could match a word to a wrong term (see example in the following cell of code). A low error threshold has been used to minimize that possibility.\n",
    "\n",
    "At any rate tokenizing the words is very useful to match only one term per word and show more effective context."
   ]
  },
  {
   "cell_type": "code",
   "execution_count": null,
   "metadata": {},
   "outputs": [
    {
     "name": "stdout",
     "output_type": "stream",
     "text": [
      "Aspect: atmosphere          Term: lights         Context:here for two\u001b[01m\u001b[31m nights \u001b[0m.\n",
      "Aspect: pool                Term: pool           Context:up in the\u001b[01m\u001b[31m pool \u001b[0marea ,\n",
      "Aspect: bathrooms           Term: towels         Context:dryer and softer\u001b[01m\u001b[31m towels \u001b[0m.\n"
     ]
    }
   ],
   "source": [
    "text = reviews[-1].get('reviewText')\n",
    "nlp.match_token(text, aspect_hotels, tol=0.2, out=\"context\")"
   ]
  },
  {
   "cell_type": "markdown",
   "metadata": {},
   "source": [
    "\"lights\" is confused with \"nights\" because there is no \"night\"/\"nights\" term that fits the token better and the error is sufficiently small (>20%).\n",
    "\n",
    "Since making errors might be worse than missing terms with slightly different derivation, the tolerance will be set to 0 from now on."
   ]
  },
  {
   "cell_type": "markdown",
   "metadata": {},
   "source": [
    "### 2.2 - Vocabulary extension with WordNet\n",
    "\n",
    "To find other terms similar to those already included in the aspect files we will first deambiguate the terms to synsets manually. To do this a function was created that iterates over all terms of an aspects file and lets the user select the correct synset from WordNet's list.\n",
    "\n",
    "Since all variations of a word included in the aspects files will aim for the same synset (e.g. light and lights) a version of the file with only the base term was created:"
   ]
  },
  {
   "cell_type": "code",
   "execution_count": 34,
   "metadata": {},
   "outputs": [
    {
     "data": {
      "text/html": [
       "<div>\n",
       "<style scoped>\n",
       "    .dataframe tbody tr th:only-of-type {\n",
       "        vertical-align: middle;\n",
       "    }\n",
       "\n",
       "    .dataframe tbody tr th {\n",
       "        vertical-align: top;\n",
       "    }\n",
       "\n",
       "    .dataframe thead th {\n",
       "        text-align: right;\n",
       "    }\n",
       "</style>\n",
       "<table border=\"1\" class=\"dataframe\">\n",
       "  <thead>\n",
       "    <tr style=\"text-align: right;\">\n",
       "      <th></th>\n",
       "      <th>aspect</th>\n",
       "      <th>term</th>\n",
       "    </tr>\n",
       "  </thead>\n",
       "  <tbody>\n",
       "    <tr>\n",
       "      <th>0</th>\n",
       "      <td>amenities</td>\n",
       "      <td>amenity</td>\n",
       "    </tr>\n",
       "    <tr>\n",
       "      <th>1</th>\n",
       "      <td>amenities</td>\n",
       "      <td>services</td>\n",
       "    </tr>\n",
       "    <tr>\n",
       "      <th>2</th>\n",
       "      <td>atmosphere</td>\n",
       "      <td>atmosphere</td>\n",
       "    </tr>\n",
       "    <tr>\n",
       "      <th>3</th>\n",
       "      <td>atmosphere</td>\n",
       "      <td>ambiance</td>\n",
       "    </tr>\n",
       "    <tr>\n",
       "      <th>4</th>\n",
       "      <td>atmosphere</td>\n",
       "      <td>light</td>\n",
       "    </tr>\n",
       "    <tr>\n",
       "      <th>...</th>\n",
       "      <td>...</td>\n",
       "      <td>...</td>\n",
       "    </tr>\n",
       "    <tr>\n",
       "      <th>151</th>\n",
       "      <td>transportation</td>\n",
       "      <td>subway</td>\n",
       "    </tr>\n",
       "    <tr>\n",
       "      <th>152</th>\n",
       "      <td>transportation</td>\n",
       "      <td>taxi</td>\n",
       "    </tr>\n",
       "    <tr>\n",
       "      <th>153</th>\n",
       "      <td>transportation</td>\n",
       "      <td>train</td>\n",
       "    </tr>\n",
       "    <tr>\n",
       "      <th>154</th>\n",
       "      <td>transportation</td>\n",
       "      <td>tube</td>\n",
       "    </tr>\n",
       "    <tr>\n",
       "      <th>155</th>\n",
       "      <td>transportation</td>\n",
       "      <td>vehicle</td>\n",
       "    </tr>\n",
       "  </tbody>\n",
       "</table>\n",
       "<p>156 rows × 2 columns</p>\n",
       "</div>"
      ],
      "text/plain": [
       "             aspect        term\n",
       "0         amenities     amenity\n",
       "1         amenities    services\n",
       "2        atmosphere  atmosphere\n",
       "3        atmosphere    ambiance\n",
       "4        atmosphere       light\n",
       "..              ...         ...\n",
       "151  transportation      subway\n",
       "152  transportation        taxi\n",
       "153  transportation       train\n",
       "154  transportation        tube\n",
       "155  transportation     vehicle\n",
       "\n",
       "[156 rows x 2 columns]"
      ]
     },
     "execution_count": 34,
     "metadata": {},
     "output_type": "execute_result"
    }
   ],
   "source": [
    "aspect_hotels_base = pd.read_csv(\"aspects/aspects_hotels_base.csv\", header=None, names=['aspect','term'])\n",
    "aspect_hotels_base"
   ]
  },
  {
   "cell_type": "code",
   "execution_count": null,
   "metadata": {},
   "outputs": [
    {
     "name": "stdout",
     "output_type": "stream",
     "text": [
      "Aspect: TRANSPORTATION      Term: VEHICLE\n",
      "------------------------------\n",
      "\n",
      "0: a conveyance that transports people or objects\n",
      "\t []\n",
      "1: a medium for the expression or achievement of something\n",
      "\t ['his editorials provided a vehicle for his political views', 'a congregation is a vehicle of group identity', 'the play was just a vehicle to display her talents']\n",
      "2: any substance that facilitates the use of a drug or pigment or other material that is mixed with it\n",
      "\t []\n",
      "3: any inanimate object (as a towel or money or clothing or dishes or books or toys etc.) that can transmit infectious agents from one person to another\n",
      "\t []\n",
      "Enter correct synset [0..n]: 0\n"
     ]
    }
   ],
   "source": [
    "term_syns = nlp.deambiguate_terms(aspect_hotels_base)"
   ]
  },
  {
   "cell_type": "markdown",
   "metadata": {},
   "source": [
    "The synsets will be saved to a file so they can be accessed again without having to walk through the whole list of terms."
   ]
  },
  {
   "cell_type": "code",
   "execution_count": null,
   "metadata": {},
   "outputs": [],
   "source": [
    "term_syns_names = []\n",
    "for asp,syns in term_syns.items():\n",
    "    for syn in syns:\n",
    "        term_syns_names.append({'aspect':asp, 'synset':syn.name()})\n",
    "\n",
    "term_syns_names = pd.DataFrame(term_syns_names)\n",
    "term_syns_names.to_csv(\"results/hotel_terms_syns_names.csv\", index=False)"
   ]
  },
  {
   "cell_type": "code",
   "execution_count": 12,
   "metadata": {},
   "outputs": [],
   "source": [
    "term_syns_names = pd.read_csv(\"results/hotel_terms_syns_names.csv\")\n",
    "\n",
    "term_syns = {asp:[] for asp in term_syns_names['aspect'].unique()}\n",
    "for i in range(len(term_syns_names)):\n",
    "    aspect = term_syns_names.loc[i,'aspect']\n",
    "    synset = wn.synset(term_syns_names.loc[i,'synset'])\n",
    "    term_syns[aspect].append(synset)"
   ]
  },
  {
   "cell_type": "markdown",
   "metadata": {},
   "source": [
    "Finally, another function will be used to extract words similar to the synsets (other lemmas of the synsets and lemmas of its hyponyms) identified:"
   ]
  },
  {
   "cell_type": "code",
   "execution_count": 32,
   "metadata": {},
   "outputs": [
    {
     "name": "stderr",
     "output_type": "stream",
     "text": [
      "Aspect progress: 100%|██████████| 31/31 [00:00<00:00, 2079.58it/s]\n"
     ]
    },
    {
     "data": {
      "text/plain": [
       "(['agreeable', 'agreeableness', 'amenity', 'services'],\n",
       " ['high tea', 'dine', 'dinner'])"
      ]
     },
     "execution_count": 32,
     "metadata": {},
     "output_type": "execute_result"
    }
   ],
   "source": [
    "terms = nlp.gather_terms(term_syns)\n",
    "terms['amenities'], terms['dinner']"
   ]
  },
  {
   "cell_type": "code",
   "execution_count": 35,
   "metadata": {},
   "outputs": [
    {
     "data": {
      "text/html": [
       "<div>\n",
       "<style scoped>\n",
       "    .dataframe tbody tr th:only-of-type {\n",
       "        vertical-align: middle;\n",
       "    }\n",
       "\n",
       "    .dataframe tbody tr th {\n",
       "        vertical-align: top;\n",
       "    }\n",
       "\n",
       "    .dataframe thead th {\n",
       "        text-align: right;\n",
       "    }\n",
       "</style>\n",
       "<table border=\"1\" class=\"dataframe\">\n",
       "  <thead>\n",
       "    <tr style=\"text-align: right;\">\n",
       "      <th></th>\n",
       "      <th>aspect</th>\n",
       "      <th>term</th>\n",
       "    </tr>\n",
       "  </thead>\n",
       "  <tbody>\n",
       "    <tr>\n",
       "      <th>0</th>\n",
       "      <td>amenities</td>\n",
       "      <td>amenity</td>\n",
       "    </tr>\n",
       "    <tr>\n",
       "      <th>1</th>\n",
       "      <td>amenities</td>\n",
       "      <td>services</td>\n",
       "    </tr>\n",
       "    <tr>\n",
       "      <th>2</th>\n",
       "      <td>atmosphere</td>\n",
       "      <td>atmosphere</td>\n",
       "    </tr>\n",
       "    <tr>\n",
       "      <th>3</th>\n",
       "      <td>atmosphere</td>\n",
       "      <td>ambiance</td>\n",
       "    </tr>\n",
       "    <tr>\n",
       "      <th>4</th>\n",
       "      <td>atmosphere</td>\n",
       "      <td>light</td>\n",
       "    </tr>\n",
       "    <tr>\n",
       "      <th>...</th>\n",
       "      <td>...</td>\n",
       "      <td>...</td>\n",
       "    </tr>\n",
       "    <tr>\n",
       "      <th>2872</th>\n",
       "      <td>transportation</td>\n",
       "      <td>sledge</td>\n",
       "    </tr>\n",
       "    <tr>\n",
       "      <th>2873</th>\n",
       "      <td>transportation</td>\n",
       "      <td>sleigh</td>\n",
       "    </tr>\n",
       "    <tr>\n",
       "      <th>2874</th>\n",
       "      <td>transportation</td>\n",
       "      <td>steamroller</td>\n",
       "    </tr>\n",
       "    <tr>\n",
       "      <th>2875</th>\n",
       "      <td>transportation</td>\n",
       "      <td>road roller</td>\n",
       "    </tr>\n",
       "    <tr>\n",
       "      <th>2876</th>\n",
       "      <td>transportation</td>\n",
       "      <td>wheeled vehicle</td>\n",
       "    </tr>\n",
       "  </tbody>\n",
       "</table>\n",
       "<p>2877 rows × 2 columns</p>\n",
       "</div>"
      ],
      "text/plain": [
       "              aspect             term\n",
       "0          amenities          amenity\n",
       "1          amenities         services\n",
       "2         atmosphere       atmosphere\n",
       "3         atmosphere         ambiance\n",
       "4         atmosphere            light\n",
       "...              ...              ...\n",
       "2872  transportation           sledge\n",
       "2873  transportation           sleigh\n",
       "2874  transportation      steamroller\n",
       "2875  transportation      road roller\n",
       "2876  transportation  wheeled vehicle\n",
       "\n",
       "[2877 rows x 2 columns]"
      ]
     },
     "execution_count": 35,
     "metadata": {},
     "output_type": "execute_result"
    }
   ],
   "source": [
    "extra_terms = []\n",
    "for asp,term in terms.items():\n",
    "    for t in term:\n",
    "        extra_terms.append({'aspect':asp, 'term':t})\n",
    "\n",
    "extra_terms = pd.DataFrame(extra_terms)\n",
    "aspect_hotels_full = aspect_hotels_base.append(extra_terms)\n",
    "aspect_hotels_full.reset_index(inplace=True, drop=True)\n",
    "aspect_hotels_full"
   ]
  },
  {
   "cell_type": "markdown",
   "metadata": {},
   "source": [
    "***Find references #3***"
   ]
  },
  {
   "cell_type": "markdown",
   "metadata": {},
   "source": [
    "Find references using the extended aspect vocabulary"
   ]
  },
  {
   "cell_type": "code",
   "execution_count": 36,
   "metadata": {},
   "outputs": [
    {
     "name": "stderr",
     "output_type": "stream",
     "text": [
      "Review progress: 100%|██████████| 5034/5034 [15:23<00:00,  5.45it/s]"
     ]
    },
    {
     "name": "stdout",
     "output_type": "stream",
     "text": [
      "{'building': 5, 'transportation': 2, 'location': 2, 'shopping': 1, 'bedrooms': 1, 'pool': 1, 'events': 1, 'bar': 1}\n"
     ]
    },
    {
     "name": "stderr",
     "output_type": "stream",
     "text": [
      "\n"
     ]
    }
   ],
   "source": [
    "aspect_stats = []\n",
    "for i in tqdm(range(len(reviews)), desc=\"Review progress\"):\n",
    "    review = reviews[i]\n",
    "    text = review.get('reviewText')\n",
    "    aspect_stats.append(nlp.match_token(text,aspect_hotels_full))\n",
    "    \n",
    "print(aspect_stats[0])"
   ]
  },
  {
   "cell_type": "code",
   "execution_count": 37,
   "metadata": {},
   "outputs": [
    {
     "name": "stdout",
     "output_type": "stream",
     "text": [
      "Aspect: building            Term: hotel          Context:Great\u001b[01m\u001b[31m hotel \u001b[0min Central\n",
      "Aspect: building            Term: place          Context:not necessarily a\u001b[01m\u001b[31m place \u001b[0mto stay\n",
      "Aspect: transportation      Term: car            Context:and without a\u001b[01m\u001b[31m car \u001b[0m.\n",
      "Aspect: location            Term: area           Context:much around the\u001b[01m\u001b[31m area \u001b[0m, and\n",
      "Aspect: location            Term: here           Context:you do stay\u001b[01m\u001b[31m here \u001b[0m, it\n",
      "Aspect: shopping            Term: boutique       Context:Great\u001b[01m\u001b[31m boutique \u001b[0mrooms .\n",
      "Aspect: bedrooms            Term: rooms          Context:Great boutique\u001b[01m\u001b[31m rooms \u001b[0m.\n",
      "Aspect: pool                Term: pool           Context:Awesome\u001b[01m\u001b[31m pool \u001b[0mthat 's\n",
      "Aspect: events              Term: happening      Context:pool that 's\u001b[01m\u001b[31m happening \u001b[0min the\n",
      "Aspect: building            Term: patio          Context:A GREAT rooftop\u001b[01m\u001b[31m patio \u001b[0mbar ,\n",
      "Aspect: bar                 Term: bar            Context:GREAT rooftop patio\u001b[01m\u001b[31m bar \u001b[0m, and\n",
      "Aspect: building            Term: lobby          Context:very very busy\u001b[01m\u001b[31m lobby \u001b[0mwith Gallo\n",
      "Aspect: building            Term: place          Context:A great\u001b[01m\u001b[31m place \u001b[0mto stay\n",
      "Aspect: transportation      Term: car            Context:but have a\u001b[01m\u001b[31m car \u001b[0m!\n"
     ]
    }
   ],
   "source": [
    "text = reviews[0].get('reviewText')\n",
    "nlp.match_token(text, aspect_hotels_full, out=\"context\")"
   ]
  },
  {
   "cell_type": "markdown",
   "metadata": {},
   "source": [
    "### 2.3 - Additional vocabulary\n",
    "\n",
    "In order to manage vocabulary for Spa&Resort we will follow a similar approach, start with the aspect vocabulary file and extend it with wordnet. \n",
    "\n",
    "The extension was done with only a subset of the aspects in order to do it faster (otherwise I'd have to select the correct synset for another 700 terms)."
   ]
  },
  {
   "cell_type": "code",
   "execution_count": 38,
   "metadata": {},
   "outputs": [
    {
     "data": {
      "text/html": [
       "<div>\n",
       "<style scoped>\n",
       "    .dataframe tbody tr th:only-of-type {\n",
       "        vertical-align: middle;\n",
       "    }\n",
       "\n",
       "    .dataframe tbody tr th {\n",
       "        vertical-align: top;\n",
       "    }\n",
       "\n",
       "    .dataframe thead th {\n",
       "        text-align: right;\n",
       "    }\n",
       "</style>\n",
       "<table border=\"1\" class=\"dataframe\">\n",
       "  <thead>\n",
       "    <tr style=\"text-align: right;\">\n",
       "      <th></th>\n",
       "      <th>aspect</th>\n",
       "      <th>term</th>\n",
       "    </tr>\n",
       "  </thead>\n",
       "  <tbody>\n",
       "    <tr>\n",
       "      <th>0</th>\n",
       "      <td>products</td>\n",
       "      <td>product</td>\n",
       "    </tr>\n",
       "    <tr>\n",
       "      <th>1</th>\n",
       "      <td>products</td>\n",
       "      <td>gel</td>\n",
       "    </tr>\n",
       "    <tr>\n",
       "      <th>2</th>\n",
       "      <td>products</td>\n",
       "      <td>lotion</td>\n",
       "    </tr>\n",
       "    <tr>\n",
       "      <th>3</th>\n",
       "      <td>products</td>\n",
       "      <td>soap</td>\n",
       "    </tr>\n",
       "    <tr>\n",
       "      <th>4</th>\n",
       "      <td>products</td>\n",
       "      <td>wax</td>\n",
       "    </tr>\n",
       "    <tr>\n",
       "      <th>5</th>\n",
       "      <td>products</td>\n",
       "      <td>waxing</td>\n",
       "    </tr>\n",
       "    <tr>\n",
       "      <th>6</th>\n",
       "      <td>service</td>\n",
       "      <td>service</td>\n",
       "    </tr>\n",
       "    <tr>\n",
       "      <th>7</th>\n",
       "      <td>service</td>\n",
       "      <td>serving</td>\n",
       "    </tr>\n",
       "    <tr>\n",
       "      <th>8</th>\n",
       "      <td>service</td>\n",
       "      <td>attention</td>\n",
       "    </tr>\n",
       "    <tr>\n",
       "      <th>9</th>\n",
       "      <td>service</td>\n",
       "      <td>attitude</td>\n",
       "    </tr>\n",
       "    <tr>\n",
       "      <th>10</th>\n",
       "      <td>service</td>\n",
       "      <td>server</td>\n",
       "    </tr>\n",
       "    <tr>\n",
       "      <th>11</th>\n",
       "      <td>skin</td>\n",
       "      <td>skin</td>\n",
       "    </tr>\n",
       "    <tr>\n",
       "      <th>12</th>\n",
       "      <td>spa</td>\n",
       "      <td>spa</td>\n",
       "    </tr>\n",
       "    <tr>\n",
       "      <th>13</th>\n",
       "      <td>spa</td>\n",
       "      <td>sauna</td>\n",
       "    </tr>\n",
       "    <tr>\n",
       "      <th>14</th>\n",
       "      <td>spa</td>\n",
       "      <td>jacuzzi</td>\n",
       "    </tr>\n",
       "    <tr>\n",
       "      <th>15</th>\n",
       "      <td>treatments</td>\n",
       "      <td>treatment</td>\n",
       "    </tr>\n",
       "    <tr>\n",
       "      <th>16</th>\n",
       "      <td>treatments</td>\n",
       "      <td>care</td>\n",
       "    </tr>\n",
       "    <tr>\n",
       "      <th>17</th>\n",
       "      <td>appetizers</td>\n",
       "      <td>appetizer</td>\n",
       "    </tr>\n",
       "    <tr>\n",
       "      <th>18</th>\n",
       "      <td>appetizers</td>\n",
       "      <td>entree</td>\n",
       "    </tr>\n",
       "    <tr>\n",
       "      <th>19</th>\n",
       "      <td>appetizers</td>\n",
       "      <td>starter</td>\n",
       "    </tr>\n",
       "    <tr>\n",
       "      <th>20</th>\n",
       "      <td>asian</td>\n",
       "      <td>asian</td>\n",
       "    </tr>\n",
       "    <tr>\n",
       "      <th>21</th>\n",
       "      <td>asian</td>\n",
       "      <td>curry</td>\n",
       "    </tr>\n",
       "    <tr>\n",
       "      <th>22</th>\n",
       "      <td>asian</td>\n",
       "      <td>noodle</td>\n",
       "    </tr>\n",
       "    <tr>\n",
       "      <th>23</th>\n",
       "      <td>asian</td>\n",
       "      <td>sushi</td>\n",
       "    </tr>\n",
       "    <tr>\n",
       "      <th>24</th>\n",
       "      <td>bread</td>\n",
       "      <td>bread</td>\n",
       "    </tr>\n",
       "    <tr>\n",
       "      <th>25</th>\n",
       "      <td>bread</td>\n",
       "      <td>roll</td>\n",
       "    </tr>\n",
       "    <tr>\n",
       "      <th>26</th>\n",
       "      <td>breakfast</td>\n",
       "      <td>breakfast</td>\n",
       "    </tr>\n",
       "    <tr>\n",
       "      <th>27</th>\n",
       "      <td>breakfast</td>\n",
       "      <td>morning</td>\n",
       "    </tr>\n",
       "    <tr>\n",
       "      <th>28</th>\n",
       "      <td>breakfast</td>\n",
       "      <td>toast</td>\n",
       "    </tr>\n",
       "    <tr>\n",
       "      <th>29</th>\n",
       "      <td>breakfast</td>\n",
       "      <td>moorning meal</td>\n",
       "    </tr>\n",
       "    <tr>\n",
       "      <th>30</th>\n",
       "      <td>breakfast</td>\n",
       "      <td>moorning menu</td>\n",
       "    </tr>\n",
       "  </tbody>\n",
       "</table>\n",
       "</div>"
      ],
      "text/plain": [
       "        aspect           term\n",
       "0     products        product\n",
       "1     products            gel\n",
       "2     products         lotion\n",
       "3     products           soap\n",
       "4     products            wax\n",
       "5     products         waxing\n",
       "6      service        service\n",
       "7      service        serving\n",
       "8      service      attention\n",
       "9      service       attitude\n",
       "10     service         server\n",
       "11        skin           skin\n",
       "12         spa            spa\n",
       "13         spa          sauna\n",
       "14         spa        jacuzzi\n",
       "15  treatments      treatment\n",
       "16  treatments           care\n",
       "17  appetizers      appetizer\n",
       "18  appetizers         entree\n",
       "19  appetizers        starter\n",
       "20       asian          asian\n",
       "21       asian          curry\n",
       "22       asian         noodle\n",
       "23       asian          sushi\n",
       "24       bread          bread\n",
       "25       bread           roll\n",
       "26   breakfast      breakfast\n",
       "27   breakfast        morning\n",
       "28   breakfast          toast\n",
       "29   breakfast  moorning meal\n",
       "30   breakfast  moorning menu"
      ]
     },
     "execution_count": 38,
     "metadata": {},
     "output_type": "execute_result"
    }
   ],
   "source": [
    "aspect_spas_base = pd.read_csv(\"aspects/aspects_spas_base.csv\", header=None, names=['aspect','term'])\n",
    "aspect_rest_base = pd.read_csv(\"aspects/aspects_restaurants_base.csv\", header=None, names=['aspect','term'])\n",
    "aspect_rs_base = aspect_spas_base.append(aspect_rest_base)\n",
    "aspect_rs_base.reset_index(inplace=True, drop=True)\n",
    "aspect_rs_base"
   ]
  },
  {
   "cell_type": "code",
   "execution_count": null,
   "metadata": {},
   "outputs": [
    {
     "name": "stdout",
     "output_type": "stream",
     "text": [
      "Aspect: BREAKFAST           Term: MOORNING MENU\n",
      "------------------------------\n",
      "\n"
     ]
    },
    {
     "name": "stderr",
     "output_type": "stream",
     "text": [
      "Aspect progress: 100%|██████████| 9/9 [00:00<00:00, 389.09it/s]\n"
     ]
    }
   ],
   "source": [
    "term_syns = nlp.deambiguate_terms(aspect_rs_base)\n",
    "terms = nlp.gather_terms(term_syns)"
   ]
  },
  {
   "cell_type": "code",
   "execution_count": null,
   "metadata": {},
   "outputs": [
    {
     "data": {
      "text/html": [
       "<div>\n",
       "<style scoped>\n",
       "    .dataframe tbody tr th:only-of-type {\n",
       "        vertical-align: middle;\n",
       "    }\n",
       "\n",
       "    .dataframe tbody tr th {\n",
       "        vertical-align: top;\n",
       "    }\n",
       "\n",
       "    .dataframe thead th {\n",
       "        text-align: right;\n",
       "    }\n",
       "</style>\n",
       "<table border=\"1\" class=\"dataframe\">\n",
       "  <thead>\n",
       "    <tr style=\"text-align: right;\">\n",
       "      <th></th>\n",
       "      <th>aspect</th>\n",
       "      <th>term</th>\n",
       "    </tr>\n",
       "  </thead>\n",
       "  <tbody>\n",
       "    <tr>\n",
       "      <th>0</th>\n",
       "      <td>products</td>\n",
       "      <td>product</td>\n",
       "    </tr>\n",
       "    <tr>\n",
       "      <th>1</th>\n",
       "      <td>products</td>\n",
       "      <td>gel</td>\n",
       "    </tr>\n",
       "    <tr>\n",
       "      <th>2</th>\n",
       "      <td>products</td>\n",
       "      <td>lotion</td>\n",
       "    </tr>\n",
       "    <tr>\n",
       "      <th>3</th>\n",
       "      <td>products</td>\n",
       "      <td>soap</td>\n",
       "    </tr>\n",
       "    <tr>\n",
       "      <th>4</th>\n",
       "      <td>products</td>\n",
       "      <td>wax</td>\n",
       "    </tr>\n",
       "    <tr>\n",
       "      <th>...</th>\n",
       "      <td>...</td>\n",
       "      <td>...</td>\n",
       "    </tr>\n",
       "    <tr>\n",
       "      <th>445</th>\n",
       "      <td>breakfast</td>\n",
       "      <td>zwieback</td>\n",
       "    </tr>\n",
       "    <tr>\n",
       "      <th>446</th>\n",
       "      <td>breakfast</td>\n",
       "      <td>rusk</td>\n",
       "    </tr>\n",
       "    <tr>\n",
       "      <th>447</th>\n",
       "      <td>breakfast</td>\n",
       "      <td>Brussels_biscuit</td>\n",
       "    </tr>\n",
       "    <tr>\n",
       "      <th>448</th>\n",
       "      <td>breakfast</td>\n",
       "      <td>twice-baked_bread</td>\n",
       "    </tr>\n",
       "    <tr>\n",
       "      <th>449</th>\n",
       "      <td>breakfast</td>\n",
       "      <td>toast</td>\n",
       "    </tr>\n",
       "  </tbody>\n",
       "</table>\n",
       "<p>450 rows × 2 columns</p>\n",
       "</div>"
      ],
      "text/plain": [
       "        aspect               term\n",
       "0     products            product\n",
       "1     products                gel\n",
       "2     products             lotion\n",
       "3     products               soap\n",
       "4     products                wax\n",
       "..         ...                ...\n",
       "445  breakfast           zwieback\n",
       "446  breakfast               rusk\n",
       "447  breakfast   Brussels_biscuit\n",
       "448  breakfast  twice-baked_bread\n",
       "449  breakfast              toast\n",
       "\n",
       "[450 rows x 2 columns]"
      ]
     },
     "execution_count": 14,
     "metadata": {},
     "output_type": "execute_result"
    }
   ],
   "source": [
    "extra_terms = []\n",
    "for asp,term in terms.items():\n",
    "    for t in term:\n",
    "        extra_terms.append({'aspect':asp, 'term':t})\n",
    "\n",
    "extra_terms = pd.DataFrame(extra_terms)\n",
    "aspect_rs_full = aspect_rs_base.append(extra_terms)\n",
    "aspect_rs_full.reset_index(inplace=True, drop=True)\n",
    "aspect_rs_full.to_csv(\"aspects/aspects_rs_full\", index=False)\n",
    "aspect_rs_full"
   ]
  },
  {
   "cell_type": "markdown",
   "metadata": {},
   "source": [
    "**Restaurants** (only the first 5.000 since there are >100.000 total)"
   ]
  },
  {
   "cell_type": "code",
   "execution_count": null,
   "metadata": {},
   "outputs": [
    {
     "name": "stdout",
     "output_type": "stream",
     "text": [
      "Review number: 5001\n",
      "{'breakfast': 3, 'service': 1, 'bread': 1}\n"
     ]
    }
   ],
   "source": [
    "line_parser = nlp.parse_lines('yelp_dataset/yelp_restaurants.json')\n",
    "\n",
    "i=0\n",
    "aspect_stats = []\n",
    "for entry in line_parser:\n",
    "    i+=1\n",
    "    clear_output(wait=True)\n",
    "    print('Review number:', i)\n",
    "    text = entry.get('reviewText')\n",
    "    aspect_stats.append(nlp.match_token(text,aspect_rs_full))\n",
    "    if i>5000:\n",
    "        break\n",
    "    \n",
    "print(aspect_stats[0])"
   ]
  },
  {
   "cell_type": "code",
   "execution_count": null,
   "metadata": {},
   "outputs": [
    {
     "name": "stdout",
     "output_type": "stream",
     "text": [
      "Aspect: service             Term: service        Context:Excellent\u001b[01m\u001b[31m service \u001b[0mand great\n"
     ]
    }
   ],
   "source": [
    "nlp.match_token(text, aspect_rs_full, out=\"context\")"
   ]
  },
  {
   "cell_type": "markdown",
   "metadata": {},
   "source": [
    "**Spas/Resorts**"
   ]
  },
  {
   "cell_type": "code",
   "execution_count": null,
   "metadata": {},
   "outputs": [
    {
     "name": "stdout",
     "output_type": "stream",
     "text": [
      "Review number: 5579\n",
      "{'service': 1}\n"
     ]
    }
   ],
   "source": [
    "line_parser = nlp.parse_lines('yelp_dataset/yelp_beauty_spas.json')\n",
    "\n",
    "i=0\n",
    "aspect_stats = []\n",
    "for entry in line_parser:\n",
    "    i+=1\n",
    "    clear_output(wait=True)\n",
    "    print('Review number:', i)\n",
    "    text = entry.get('reviewText')\n",
    "    aspect_stats.append(nlp.match_token(text,aspect_rs_full))\n",
    "    \n",
    "print(aspect_stats[0])"
   ]
  },
  {
   "cell_type": "code",
   "execution_count": null,
   "metadata": {},
   "outputs": [],
   "source": [
    "nlp.match_token(text, aspect_rs_full, out=\"context\")"
   ]
  },
  {
   "cell_type": "markdown",
   "metadata": {},
   "source": [
    "Since a very small subset of aspects were used almost no hits were found. Another round of aspect parsing will be done using the unextended aspect files."
   ]
  },
  {
   "cell_type": "markdown",
   "metadata": {},
   "source": [
    "***Unextended aspect files***"
   ]
  },
  {
   "cell_type": "code",
   "execution_count": null,
   "metadata": {},
   "outputs": [],
   "source": [
    "aspect_spas = pd.read_csv(\"aspects/aspects_spas.csv\", header=None, names=['aspect','term'])\n",
    "aspect_rest = pd.read_csv(\"aspects/aspects_restaurants.csv\", header=None, names=['aspect','term'])\n",
    "aspect_rs = aspect_spas_base.append(aspect_rest)\n",
    "aspect_rs.reset_index(inplace=True, drop=True)"
   ]
  },
  {
   "cell_type": "markdown",
   "metadata": {},
   "source": [
    "**Restaurants**"
   ]
  },
  {
   "cell_type": "code",
   "execution_count": null,
   "metadata": {},
   "outputs": [
    {
     "name": "stdout",
     "output_type": "stream",
     "text": [
      "Review number: 5579\n",
      "{'shopping': 1, 'service': 1}\n"
     ]
    }
   ],
   "source": [
    "line_parser = nlp.parse_lines('yelp_dataset/yelp_restaurants.json')\n",
    "\n",
    "i=0\n",
    "aspect_stats = []\n",
    "for entry in line_parser:\n",
    "    i+=1\n",
    "    clear_output(wait=True)\n",
    "    print('Review number:', i)\n",
    "    text = entry.get('reviewText')\n",
    "    aspect_stats.append(nlp.match_token(text,aspect_rs))\n",
    "    if i >5000:\n",
    "        break\n",
    "    \n",
    "print(aspect_stats[0])"
   ]
  },
  {
   "cell_type": "code",
   "execution_count": null,
   "metadata": {},
   "outputs": [
    {
     "name": "stdout",
     "output_type": "stream",
     "text": [
      "Aspect: staff               Term: employees      Context:the absolute sweetest\u001b[01m\u001b[31m employees \u001b[0mthat do\n"
     ]
    }
   ],
   "source": [
    "nlp.match_token(text, aspect_rs, out=\"context\")"
   ]
  },
  {
   "cell_type": "markdown",
   "metadata": {},
   "source": [
    "**Spas/Resorts**"
   ]
  },
  {
   "cell_type": "code",
   "execution_count": null,
   "metadata": {},
   "outputs": [
    {
     "name": "stdout",
     "output_type": "stream",
     "text": [
      "Review number: 5579\n",
      "{'shopping': 1, 'service': 1}\n"
     ]
    }
   ],
   "source": [
    "line_parser = nlp.parse_lines('yelp_dataset/yelp_beauty_spas.json')\n",
    "\n",
    "i=0\n",
    "aspect_stats = []\n",
    "for entry in line_parser:\n",
    "    i+=1\n",
    "    clear_output(wait=True)\n",
    "    print('Review number:', i)\n",
    "    text = entry.get('reviewText')\n",
    "    aspect_stats.append(nlp.match_token(text,aspect_rs))\n",
    "    \n",
    "print(aspect_stats[0])"
   ]
  },
  {
   "cell_type": "code",
   "execution_count": null,
   "metadata": {},
   "outputs": [
    {
     "name": "stdout",
     "output_type": "stream",
     "text": [
      "Aspect: staff               Term: employees      Context:the absolute sweetest\u001b[01m\u001b[31m employees \u001b[0mthat do\n"
     ]
    }
   ],
   "source": [
    "nlp.match_token(text, aspect_rs, out=\"context\")"
   ]
  },
  {
   "cell_type": "markdown",
   "metadata": {},
   "source": [
    "The unextended aspect files will be used for the final analysis (section 5), but in the real application one could apply the WordNet extension to all the aspects and use that one instead."
   ]
  },
  {
   "cell_type": "markdown",
   "metadata": {},
   "source": [
    "## 3 - Opinion lexicons\n",
    "\n",
    "### 3.1 - Liu's opinion lexicon"
   ]
  },
  {
   "cell_type": "code",
   "execution_count": 39,
   "metadata": {
    "scrolled": true
   },
   "outputs": [
    {
     "name": "stdout",
     "output_type": "stream",
     "text": [
      "Positive words:\n",
      "--------------\n",
      "\n",
      "['a+', 'abound', 'abounds', 'abundance', 'abundant', ...]\n",
      "Total of words: 2006\n",
      "\n",
      "\n",
      "Negative words:\n",
      "--------------\n",
      "\n",
      "['2-faced', '2-faces', 'abnormal', 'abolish', ...]\n",
      "Total of words: 4783\n"
     ]
    }
   ],
   "source": [
    "print(\"Positive words:\\n--------------\\n\")\n",
    "liu_positive = opinion_lexicon.positive()\n",
    "print(liu_positive)\n",
    "print(f\"Total of words: {len(liu_positive)}\\n\\n\")\n",
    "\n",
    "print(\"Negative words:\\n--------------\\n\")\n",
    "liu_negative = opinion_lexicon.negative()\n",
    "print(liu_negative)\n",
    "print(f\"Total of words: {len(liu_negative)}\")"
   ]
  },
  {
   "cell_type": "markdown",
   "metadata": {},
   "source": [
    "### 3.2 Modifiers"
   ]
  },
  {
   "cell_type": "code",
   "execution_count": 40,
   "metadata": {},
   "outputs": [
    {
     "data": {
      "text/html": [
       "<div>\n",
       "<style scoped>\n",
       "    .dataframe tbody tr th:only-of-type {\n",
       "        vertical-align: middle;\n",
       "    }\n",
       "\n",
       "    .dataframe tbody tr th {\n",
       "        vertical-align: top;\n",
       "    }\n",
       "\n",
       "    .dataframe thead th {\n",
       "        text-align: right;\n",
       "    }\n",
       "</style>\n",
       "<table border=\"1\" class=\"dataframe\">\n",
       "  <thead>\n",
       "    <tr style=\"text-align: right;\">\n",
       "      <th></th>\n",
       "      <th>term</th>\n",
       "      <th>polarity</th>\n",
       "    </tr>\n",
       "  </thead>\n",
       "  <tbody>\n",
       "    <tr>\n",
       "      <th>0</th>\n",
       "      <td>above</td>\n",
       "      <td>2.0</td>\n",
       "    </tr>\n",
       "    <tr>\n",
       "      <th>1</th>\n",
       "      <td>absolutely</td>\n",
       "      <td>2.0</td>\n",
       "    </tr>\n",
       "    <tr>\n",
       "      <th>2</th>\n",
       "      <td>abundantly</td>\n",
       "      <td>2.0</td>\n",
       "    </tr>\n",
       "    <tr>\n",
       "      <th>3</th>\n",
       "      <td>acutely</td>\n",
       "      <td>2.0</td>\n",
       "    </tr>\n",
       "    <tr>\n",
       "      <th>4</th>\n",
       "      <td>amazingly</td>\n",
       "      <td>2.0</td>\n",
       "    </tr>\n",
       "    <tr>\n",
       "      <th>...</th>\n",
       "      <td>...</td>\n",
       "      <td>...</td>\n",
       "    </tr>\n",
       "    <tr>\n",
       "      <th>295</th>\n",
       "      <td>violently</td>\n",
       "      <td>-1.0</td>\n",
       "    </tr>\n",
       "    <tr>\n",
       "      <th>296</th>\n",
       "      <td>whimsically</td>\n",
       "      <td>-1.0</td>\n",
       "    </tr>\n",
       "    <tr>\n",
       "      <th>297</th>\n",
       "      <td>wickedly</td>\n",
       "      <td>-1.0</td>\n",
       "    </tr>\n",
       "    <tr>\n",
       "      <th>298</th>\n",
       "      <td>wretchedly</td>\n",
       "      <td>-1.0</td>\n",
       "    </tr>\n",
       "    <tr>\n",
       "      <th>299</th>\n",
       "      <td>wrongly</td>\n",
       "      <td>-1.0</td>\n",
       "    </tr>\n",
       "  </tbody>\n",
       "</table>\n",
       "<p>300 rows × 2 columns</p>\n",
       "</div>"
      ],
      "text/plain": [
       "            term  polarity\n",
       "0          above       2.0\n",
       "1     absolutely       2.0\n",
       "2     abundantly       2.0\n",
       "3        acutely       2.0\n",
       "4      amazingly       2.0\n",
       "..           ...       ...\n",
       "295    violently      -1.0\n",
       "296  whimsically      -1.0\n",
       "297     wickedly      -1.0\n",
       "298   wretchedly      -1.0\n",
       "299      wrongly      -1.0\n",
       "\n",
       "[300 rows x 2 columns]"
      ]
     },
     "execution_count": 40,
     "metadata": {},
     "output_type": "execute_result"
    }
   ],
   "source": [
    "modifiers = pd.read_csv(\"modifiers.csv\", header=None, names=['term','polarity'])\n",
    "modifiers"
   ]
  },
  {
   "cell_type": "markdown",
   "metadata": {},
   "source": [
    "## 4. Aspect opinions\n",
    "\n",
    "### 4.1 - 4.3 Term extraction\n",
    "\n",
    "The function for finding aspect references was adapted to also perform term extraction (just saves the positions of terms instead of counting the references or printing the context)."
   ]
  },
  {
   "cell_type": "code",
   "execution_count": 41,
   "metadata": {},
   "outputs": [
    {
     "name": "stderr",
     "output_type": "stream",
     "text": [
      "Review progress: 100%|██████████| 5034/5034 [01:13<00:00, 68.24it/s] "
     ]
    },
    {
     "name": "stdout",
     "output_type": "stream",
     "text": [
      "{'transportation': [(0, 22), (6, 9)], 'shopping': [(3, 1)], 'pool': [(4, 1)], 'building': [(5, 3), (5, 11)], 'bar': [(5, 4)]}\n"
     ]
    },
    {
     "name": "stderr",
     "output_type": "stream",
     "text": [
      "\n"
     ]
    }
   ],
   "source": [
    "aspect_positions = []\n",
    "for i in tqdm(range(len(reviews)), desc=\"Review progress\"):\n",
    "    review = reviews[i]\n",
    "    text = review.get('reviewText')\n",
    "    aspect_positions.append(nlp.match_token(text,aspect_hotels,out=\"pos\"))\n",
    "    \n",
    "print(aspect_positions[0])"
   ]
  },
  {
   "cell_type": "markdown",
   "metadata": {},
   "source": [
    "### 4.1 - 4.3 Basic opinion extraction"
   ]
  },
  {
   "cell_type": "markdown",
   "metadata": {},
   "source": [
    "The first attempt at opinion extraction was to POS tag the sentences, identify adjectives or adverbs adjacent to the aspect terms, and check if they belong to the opinion lexicon. Polarity of +/-1 was assigned depending on whether the adjs/advs were in the positive or negative list. "
   ]
  },
  {
   "cell_type": "code",
   "execution_count": null,
   "metadata": {},
   "outputs": [
    {
     "name": "stderr",
     "output_type": "stream",
     "text": [
      "Review progress: 100%|██████████| 5034/5034 [02:15<00:00, 37.17it/s]"
     ]
    },
    {
     "name": "stdout",
     "output_type": "stream",
     "text": [
      "{}\n"
     ]
    },
    {
     "name": "stderr",
     "output_type": "stream",
     "text": [
      "\n"
     ]
    }
   ],
   "source": [
    "aspect_opinions = []\n",
    "for i in tqdm(range(len(reviews)), desc=\"Review progress\"):\n",
    "    review = reviews[i]\n",
    "    text = review.get('reviewText')\n",
    "    aspect_opinions.append(nlp.basic_parse_opinion(text, aspect_positions[i], opinion_lexicon))\n",
    "    \n",
    "print(aspect_opinions[0])"
   ]
  },
  {
   "cell_type": "code",
   "execution_count": null,
   "metadata": {},
   "outputs": [
    {
     "data": {
      "text/plain": [
       "[{},\n",
       " {'drinks': [['drink', 'cheap', -1], ['beer', 'cheap', -1]]},\n",
       " {},\n",
       " {'spa': [['spa', 'favorite', 1]]},\n",
       " {'location': [['river', 'lazy', -1]]},\n",
       " {'staff': [['staff', 'disinterested', -1]]},\n",
       " {'service': [['service', 'impeccable', 1]],\n",
       "  'bathrooms': [['shower', 'lovely', 1]]},\n",
       " {},\n",
       " {},\n",
       " {'bedrooms': [['pillows', 'decent', 1]]},\n",
       " {},\n",
       " {},\n",
       " {},\n",
       " {'drinks': [['drinks', 'frozen', -1], ['drink', 'wonderful', 1]],\n",
       "  'cuisine': [['food', 'better', 1]],\n",
       "  'service': [['service', 'better', 1]]},\n",
       " {},\n",
       " {},\n",
       " {},\n",
       " {'service': [['service', 'poor', -1], ['attitudes', 'bad', -1]],\n",
       "  'staff': [['patrons', 'obnoxious', -1]]},\n",
       " {},\n",
       " {},\n",
       " {},\n",
       " {},\n",
       " {},\n",
       " {'building': [['decor', 'blah', -1], ['lobby', 'cool', 1]],\n",
       "  'cuisine': [['food', 'decent', 1]]},\n",
       " {},\n",
       " {},\n",
       " {},\n",
       " {'staff': [['staff', 'friendly', 1]]},\n",
       " {},\n",
       " {'cuisine': [['food', 'hot', 1]]},\n",
       " {'building': [['spot', 'beautiful', 1]],\n",
       "  'pool': [['pool', 'tranquil', 1]],\n",
       "  'service': [['service', 'great', 1]]},\n",
       " {},\n",
       " {},\n",
       " {},\n",
       " {'building': [['decor', 'modern', 1]]},\n",
       " {},\n",
       " {},\n",
       " {},\n",
       " {'breakfast': [['breakfasts', 'complimentary', 1]]},\n",
       " {'price': [['price', 'solid', 1]]},\n",
       " {},\n",
       " {'location': [['location', 'great', 1]]},\n",
       " {'location': [['views', 'best', 1]]},\n",
       " {},\n",
       " {},\n",
       " {},\n",
       " {},\n",
       " {'location': [['view', 'nice', 1]]},\n",
       " {},\n",
       " {'staff': [['staff', 'friendly', 1]]},\n",
       " {'cuisine': [['meal', 'lovely', 1]]},\n",
       " {'service': [['service', 'exemplary', 1]],\n",
       "  'cuisine': [['food', 'delicious', 1]]},\n",
       " {},\n",
       " {'location': [['neighborhood', 'better', 1]]},\n",
       " {},\n",
       " {'service': [['service', 'best', 1]]},\n",
       " {'restaurant': [['restaurants', 'great', 1]]},\n",
       " {},\n",
       " {'price': [['price', 'inexpensive', 1]],\n",
       "  'internet': [['internet', 'free', 1]],\n",
       "  'cuisine': [['plates', 'safe', 1]]},\n",
       " {'service': [['service', 'better', 1]], 'events': [['trip', 'great', 1]]},\n",
       " {'bar': [['bar', 'better', 1]], 'atmosphere': [['ambiance', 'nice', 1]]},\n",
       " {'price': [['price', 'great', 1]]},\n",
       " {},\n",
       " {'amenities': [['amenities', 'great', 1]]},\n",
       " {},\n",
       " {'cuisine': [['buffet', 'hot', 1]], 'price': [['price', 'fair', 1]]},\n",
       " {'bathrooms': [['tubs', 'hot', 1], ['tub', 'hot', 1]],\n",
       "  'internet': [['wifi', 'free', 1]],\n",
       "  'drinks': [['wine', 'free', 1]],\n",
       "  'amenities': [['amenities', 'nice', 1]]},\n",
       " {'restaurant': [['restaurant', 'nice', 1]],\n",
       "  'location': [['location', 'good', 1]],\n",
       "  'price': [['price', 'amazing', 1]]},\n",
       " {},\n",
       " {'breakfast': [['breakfast', 'fantastic', 1]]},\n",
       " {},\n",
       " {'restaurant': [['restaurant', 'fantastic', 1]]},\n",
       " {},\n",
       " {},\n",
       " {},\n",
       " {'building': [['spot', 'hot', 1]]},\n",
       " {'amenities': [['amenities', 'nice', 1]]},\n",
       " {'bedrooms': [['beds', 'heavenly', 1]]},\n",
       " {},\n",
       " {'internet': [['wifi', 'free', 1]], 'breakfast': [['breakfast', 'free', 1]]},\n",
       " {'bar': [['bars', 'great', 1]], 'staff': [['staff', 'friendly', 1]]},\n",
       " {'service': [['service', 'good', 1]], 'location': [['view', 'lovely', 1]]},\n",
       " {'internet': [['internet', 'free', 1]]},\n",
       " {'breakfast': [['breakfast', 'free', 1]]},\n",
       " {},\n",
       " {'building': [['spot', 'favorite', 1]],\n",
       "  'location': [['mountain', 'perfect', 1]]},\n",
       " {},\n",
       " {'internet': [['wifi', 'free', 1]]},\n",
       " {'drinks': [['drinks', 'free', 1]]},\n",
       " {'location': [['river', 'lazy', -1]]},\n",
       " {'breakfast': [['breakfast', 'free', 1]]},\n",
       " {},\n",
       " {},\n",
       " {},\n",
       " {'location': [['view', 'awesome', 1]],\n",
       "  'staff': [['staff', 'friendly', 1]],\n",
       "  'cleanliness': [['dirt', 'cheap', -1]],\n",
       "  'building': [['decor', 'great', 1]]},\n",
       " {'coffee': [['cafe', 'great', 1]]},\n",
       " {},\n",
       " {'price': [['price', 'great', 1]], 'location': [['views', 'amazing', 1]]},\n",
       " {},\n",
       " {},\n",
       " {},\n",
       " {},\n",
       " {},\n",
       " {'staff': [['staff', 'gladly', 1]]},\n",
       " {'location': [['location', 'perfect', 1]],\n",
       "  'temperature': [['temperature', 'perfect', 1]]},\n",
       " {},\n",
       " {},\n",
       " {},\n",
       " {'location': [['location', 'impeccable', 1]]},\n",
       " {},\n",
       " {'bedrooms': [['suite', 'gorgeous', 1]],\n",
       "  'checking': [['check', 'friendly', 1]],\n",
       "  'bathrooms': [['shower', 'great', 1]],\n",
       "  'atmosphere': [['lighting', 'available', 1]]},\n",
       " {},\n",
       " {'bathrooms': [['bathroom', 'luxurious', 1]]},\n",
       " {'staff': [['staff', 'helpful', 1]],\n",
       "  'restaurant': [['restaurant', 'excellent', 1]],\n",
       "  'spa': [['spa', 'great', 1]],\n",
       "  'location': [['view', 'great', 1]]},\n",
       " {'events': [['event', 'great', 1]]},\n",
       " {'building': [['spot', 'beautiful', 1],\n",
       "   ['spot', 'perfect', 1],\n",
       "   ['patios', 'great', 1],\n",
       "   ['patios', 'right', 1]],\n",
       "  'amenities': [['amenities', 'comfortable', 1]]},\n",
       " {},\n",
       " {},\n",
       " {'service': [['service', 'exceptional', 1]],\n",
       "  'pool': [['pool', 'beautiful', 1]],\n",
       "  'cleanliness': [['smell', 'wonderful', 1]]},\n",
       " {},\n",
       " {'bedrooms': [['beds', 'better', 1]],\n",
       "  'drinks': [['wine', 'free', 1], ['wine', 'happy', 1]],\n",
       "  'transportation': [['shuttle', 'free', 1]]},\n",
       " {'service': [['service', 'outstanding', 1]]},\n",
       " {},\n",
       " {},\n",
       " {'price': [['money', 'dead', -1]]},\n",
       " {},\n",
       " {},\n",
       " {},\n",
       " {},\n",
       " {},\n",
       " {'internet': [['internet', 'free', 1]], 'price': [['price', 'best', 1]]},\n",
       " {},\n",
       " {'bedrooms': [['pillows', 'great', 1]]},\n",
       " {},\n",
       " {},\n",
       " {'location': [['location', 'great', 1]]},\n",
       " {},\n",
       " {},\n",
       " {'location': [['location', 'good', 1]],\n",
       "  'breakfast': [['breakfast', 'free', 1]]},\n",
       " {},\n",
       " {},\n",
       " {},\n",
       " {'bedrooms': [['bed', 'available', 1]]},\n",
       " {},\n",
       " {},\n",
       " {'breakfast': [['breakfast', 'hot', 1]]},\n",
       " {'price': [['priced', 'reasonably', 1]],\n",
       "  'cuisine': [['food', 'incredible', 1]],\n",
       "  'location': [['view', 'great', 1]]},\n",
       " {'location': [['views', 'desert', -1]]},\n",
       " {'facilities': [['facility', 'beautiful', 1], ['facility', 'great', 1]]},\n",
       " {},\n",
       " {},\n",
       " {},\n",
       " {'transportation': [['shuttle', 'free', 1]]},\n",
       " {},\n",
       " {'staff': [['staff', 'helpful', 1]]},\n",
       " {},\n",
       " {'restaurant': [['restaurants', 'wonderful', 1],\n",
       "   ['restaurant', 'popular', 1]]},\n",
       " {'internet': [['wi-fi', 'free', 1]], 'cuisine': [['dishes', 'dirty', -1]]},\n",
       " {'building': [['spot', 'favorite', 1]], 'cuisine': [['food', 'great', 1]]},\n",
       " {},\n",
       " {'bathrooms': [['tubs', 'hot', 1]], 'location': [['river', 'lazy', -1]]},\n",
       " {'pool': [['pool', 'great', 1]],\n",
       "  'restaurant': [['restaurants', 'nice', 1]],\n",
       "  'service': [['service', 'fantastic', 1]]},\n",
       " {},\n",
       " {},\n",
       " {'service': [['service', 'great', 1]]},\n",
       " {},\n",
       " {'bathrooms': [['shampoos', 'fancy', 1]]},\n",
       " {},\n",
       " {},\n",
       " {'service': [['service', 'fast', 1]],\n",
       "  'breakfast': [['breakfast', 'complimentary', 1]]},\n",
       " {},\n",
       " {},\n",
       " {},\n",
       " {},\n",
       " {},\n",
       " {'breakfast': [['breakfast', 'complimentary', 1]]},\n",
       " {},\n",
       " {'cleanliness': [['clean', 'meticulously', 1]],\n",
       "  'location': [['views', 'good', 1]],\n",
       "  'atmosphere': [['ambiance', 'festive', 1]]},\n",
       " {'restaurant': [['restaurants', 'right', 1]]},\n",
       " {},\n",
       " {},\n",
       " {'atmosphere': [['music', 'great', 1]]},\n",
       " {},\n",
       " {},\n",
       " {},\n",
       " {},\n",
       " {'restaurant': [['restaurant', 'awesome', 1]],\n",
       "  'location': [['views', 'amazing', 1]]},\n",
       " {},\n",
       " {},\n",
       " {'pool': [['pool', 'amazing', 1]]},\n",
       " {},\n",
       " {'bedrooms': [['sheets', 'nice', 1]],\n",
       "  'temperature': [['temperature', 'good', 1]]},\n",
       " {},\n",
       " {},\n",
       " {'bedrooms': [['bed', 'plush', 1]],\n",
       "  'breakfast': [['breakfast', 'free', 1]],\n",
       "  'cuisine': [['food', 'free', 1]]},\n",
       " {},\n",
       " {'pool': [['swimming', 'nice', 1]],\n",
       "  'breakfast': [['breakfast', 'free', 1]],\n",
       "  'dinner': [['dinner', 'free', 1]]},\n",
       " {'building': [['patio', 'nice', 1]], 'bathrooms': [['tubs', 'hot', 1]]},\n",
       " {'spa': [['spa', 'unfortunately', -1]]},\n",
       " {'breakfast': [['breakfast', 'hot', 1]]},\n",
       " {'pool': [['pool', 'fantastic', 1]],\n",
       "  'restaurant': [['restaurant', 'excellent', 1]],\n",
       "  'spa': [['spa', 'nice', 1]],\n",
       "  'shopping': [['shopping', 'great', 1]]},\n",
       " {},\n",
       " {'breakfast': [['breakfast', 'complimentary', 1]]},\n",
       " {},\n",
       " {},\n",
       " {},\n",
       " {},\n",
       " {'bedrooms': [['suites', 'spacious', 1]],\n",
       "  'breakfast': [['breakfast', 'free', 1]]},\n",
       " {'staff': [['worker', 'good', 1]], 'price': [['price', 'decent', 1]]},\n",
       " {},\n",
       " {'cuisine': [['dishes', 'hot', 1]]},\n",
       " {'location': [['location', 'ideal', 1]]},\n",
       " {},\n",
       " {},\n",
       " {'bar': [['bartender', 'friendly', 1]]},\n",
       " {},\n",
       " {'bathrooms': [['tub', 'hot', 1]],\n",
       "  'transportation': [['shuttle', 'complimentary', 1]]},\n",
       " {},\n",
       " {'building': [['spot', 'obscure', -1]]},\n",
       " {'staff': [['staff', 'clean', 1]]},\n",
       " {},\n",
       " {'bedrooms': [['beds', 'comfortable', 1]],\n",
       "  'checking': [['checking', 'worth', 1]]},\n",
       " {'amenities': [['amenities', 'unexpected', -1]]},\n",
       " {'staff': [['staff', 'enough', 1]], 'service': [['service', 'excellent', 1]]},\n",
       " {'amenities': [['amenities', 'clean', 1]],\n",
       "  'staff': [['staff', 'friendly', 1]],\n",
       "  'breakfast': [['breakfast', 'complimentary', 1]],\n",
       "  'location': [['location', 'perfect', 1]]},\n",
       " {'service': [['service', 'nice', 1]], 'coffee': [['coffee', 'good', 1]]},\n",
       " {},\n",
       " {},\n",
       " {'bathrooms': [['tubs', 'hot', 1]]},\n",
       " {'staff': [['staff', 'friendly', 1]]},\n",
       " {},\n",
       " {},\n",
       " {'pool': [['pool', 'best', 1]], 'service': [['service', 'attentive', 1]]},\n",
       " {},\n",
       " {},\n",
       " {},\n",
       " {},\n",
       " {},\n",
       " {'pool': [['swimming', 'awesome', 1], ['swimming', 'cool', 1]]},\n",
       " {},\n",
       " {'bathrooms': [['bathroom', 'cramped', -1]]},\n",
       " {'cleanliness': [['clean', 'comfortable', 1]],\n",
       "  'location': [['trees', 'pretty', 1]]},\n",
       " {},\n",
       " {},\n",
       " {'location': [['location', 'perfect', 1]],\n",
       "  'bar': [['bartenders', 'awesome', 1]]},\n",
       " {'bedrooms': [['beds', 'comfortable', 1]]},\n",
       " {},\n",
       " {},\n",
       " {'staff': [['staff', 'helpful', 1]]},\n",
       " {},\n",
       " {},\n",
       " {'bedrooms': [['beds', 'comfy', 1]]},\n",
       " {},\n",
       " {'building': [['decor', 'poor', -1]]},\n",
       " {'drinks': [['wine', 'decent', 1]]},\n",
       " {},\n",
       " {},\n",
       " {},\n",
       " {'facilities': [['facilities', 'nice', 1]],\n",
       "  'staff': [['employees', 'nice', 1]]},\n",
       " {},\n",
       " {},\n",
       " {},\n",
       " {},\n",
       " {},\n",
       " {'drinks': [['beers', 'great', 1]]},\n",
       " {'location': [['view', 'great', 1]]},\n",
       " {},\n",
       " {},\n",
       " {},\n",
       " {},\n",
       " {},\n",
       " {},\n",
       " {'amenities': [['amenities', 'decent', 1]]},\n",
       " {'internet': [['wi-fi', 'free', 1]]},\n",
       " {'staff': [['staff', 'friendly', 1]]},\n",
       " {'service': [['service', 'friendly', 1]]},\n",
       " {'breakfast': [['breakfast', 'free', 1]],\n",
       "  'location': [['river', 'lazy', -1]]},\n",
       " {},\n",
       " {},\n",
       " {},\n",
       " {},\n",
       " {'bathrooms': [['tubs', 'hot', 1]],\n",
       "  'location': [['view', 'nice', 1]],\n",
       "  'service': [['service', 'great', 1]]},\n",
       " {'location': [['view', 'great', 1]]},\n",
       " {'location': [['location', 'better', 1]]},\n",
       " {'staff': [['staff', 'helpful', 1]]},\n",
       " {},\n",
       " {},\n",
       " {},\n",
       " {},\n",
       " {},\n",
       " {'breakfast': [['breakfast', 'complimentary', 1]]},\n",
       " {},\n",
       " {'bar': [['bar', 'nice', 1]]},\n",
       " {'service': [['service', 'terrible', -1]]},\n",
       " {'drinks': [['wine', 'wonderful', 1]],\n",
       "  'atmosphere': [['lighting', 'warm', 1]]},\n",
       " {},\n",
       " {'cuisine': [['cuisine', 'excellent', 1]], 'drinks': [['drink', 'cool', 1]]},\n",
       " {},\n",
       " {'location': [['trees', 'beautiful', 1], ['view', 'incredible', 1]],\n",
       "  'dinner': [['dinner', 'delicious', 1]]},\n",
       " {},\n",
       " {'internet': [['internet', 'free', 1]]},\n",
       " {'transportation': [['shuttle', 'free', 1]]},\n",
       " {'bedrooms': [['sheets', 'dirty', -1]],\n",
       "  'drinks': [['drinks', 'free', 1]],\n",
       "  'staff': [['manager', 'awesome', 1]]},\n",
       " {},\n",
       " {'building': [['lobby', 'nice', 1]], 'coffee': [['coffee', 'free', 1]]},\n",
       " {'bedrooms': [['suite', 'free', 1]]},\n",
       " {},\n",
       " {'location': [['river', 'lazy', -1]],\n",
       "  'spa': [['spa', 'scratchy', -1]],\n",
       "  'bathrooms': [['tub', 'hot', 1], ['tub', 'right', 1]],\n",
       "  'service': [['service', 'good', 1]]},\n",
       " {},\n",
       " {},\n",
       " {'bathrooms': [['bathroom', 'great', 1]],\n",
       "  'breakfast': [['breakfast', 'good', 1]],\n",
       "  'pool': [['pool', 'ample', 1]]},\n",
       " {'bathrooms': [['shower', 'fabulous', 1]],\n",
       "  'bedrooms': [['bed', 'fabulous', 1]]},\n",
       " {},\n",
       " {},\n",
       " {'staff': [['manager', 'rude', -1]]},\n",
       " {},\n",
       " {'service': [['service', 'lackluster', -1]],\n",
       "  'staff': [['staff', 'helpful', 1]]},\n",
       " {},\n",
       " {},\n",
       " {},\n",
       " {},\n",
       " {'drinks': [['wine', 'good', 1]]},\n",
       " {'building': [['spot', 'quiet', 1]]},\n",
       " {},\n",
       " {'breakfast': [['breakfast', 'free', 1]]},\n",
       " {},\n",
       " {},\n",
       " {'service': [['attitudes', 'bad', -1]]},\n",
       " {'location': [['views', 'great', 1], ['view', 'wonderful', 1]]},\n",
       " {},\n",
       " {},\n",
       " {'location': [['view', 'gorgeous', 1]],\n",
       "  'cuisine': [['food', 'frozen', -1]],\n",
       "  'internet': [['wi-fi', 'complimentary', 1]]},\n",
       " {},\n",
       " {},\n",
       " {},\n",
       " {'staff': [['staff', 'nice', 1]], 'breakfast': [['breakfast', 'free', 1]]},\n",
       " {},\n",
       " {'building': [['lounge', 'lovely', 1]]},\n",
       " {},\n",
       " {},\n",
       " {},\n",
       " {},\n",
       " {},\n",
       " {'location': [['location', 'great', 1]], 'staff': [['staff', 'nice', 1]]},\n",
       " {},\n",
       " {'internet': [['wifi', 'slow', -1]]},\n",
       " {'internet': [['wifi', 'spotty', -1]],\n",
       "  'bedrooms': [['bed', 'comfortable', 1], ['sheets', 'nice', 1]]},\n",
       " {},\n",
       " {},\n",
       " {'transportation': [['shuttle', 'free', 1]],\n",
       "  'breakfast': [['breakfast', 'free', 1]]},\n",
       " {},\n",
       " {},\n",
       " {'bedrooms': [['bed', 'awesome', 1]]},\n",
       " {'internet': [['internet', 'free', 1]]},\n",
       " {},\n",
       " {'restaurant': [['restaurants', 'good', 1]],\n",
       "  'internet': [['internet', 'free', 1]]},\n",
       " {},\n",
       " {'staff': [['staff', 'extraordinary', 1]]},\n",
       " {'building': [['architecture', 'interesting', 1]]},\n",
       " {},\n",
       " {'bedrooms': [['suites', 'nice', 1]]},\n",
       " {'service': [['service', 'excellent', 1]]},\n",
       " {'location': [['river', 'lazy', -1], ['tree', 'wrong', -1]]},\n",
       " {},\n",
       " {},\n",
       " {},\n",
       " {'staff': [['staff', 'right', 1]]},\n",
       " {},\n",
       " {'cleanliness': [['clean', 'good', 1]],\n",
       "  'bedrooms': [['bed', 'comfortable', 1]]},\n",
       " {'building': [['spot', 'nice', 1]]},\n",
       " {'staff': [['staff', 'friendly', 1]]},\n",
       " {'pool': [['pool', 'pleasant', 1]], 'cuisine': [['buffet', 'nice', 1]]},\n",
       " {'pool': [['pools', 'unbelievable', -1]],\n",
       "  'restaurant': [['restaurant', 'great', 1]]},\n",
       " {},\n",
       " {'breakfast': [['breakfast', 'free', 1]]},\n",
       " {'staff': [['staff', 'friendly', 1]]},\n",
       " {'parking': [['parking', 'sketchy', -1]]},\n",
       " {'service': [['service', 'attentive', 1]]},\n",
       " {},\n",
       " {'location': [['river', 'lazy', -1]]},\n",
       " {'bathrooms': [['tub', 'hot', 1]]},\n",
       " {'price': [['priced', 'reasonably', 1]]},\n",
       " {'bathrooms': [['tub', 'hot', 1]]},\n",
       " {'bathrooms': [['towels', 'clean', 1]],\n",
       "  'bedrooms': [['sheets', 'fresh', 1], ['pillows', 'comfortable', 1]],\n",
       "  'staff': [['hostess', 'angry', -1]],\n",
       "  'service': [['attitude', 'awful', -1]]},\n",
       " {},\n",
       " {'bedrooms': [['bed', 'comfortable', 1], ['bed', 'nice', 1]],\n",
       "  'amenities': [['amenities', 'perfect', 1]],\n",
       "  'internet': [['wifi', 'free', 1]],\n",
       "  'breakfast': [['breakfast', 'good', 1]]},\n",
       " {},\n",
       " {'location': [['location', 'bad', -1]],\n",
       "  'bathrooms': [['tubs', 'hot', 1], ['tub', 'hot', 1]]},\n",
       " {'building': [['salon', 'popular', 1]]},\n",
       " {'bedrooms': [['bed', 'nice', 1]]},\n",
       " {'bathrooms': [['bathroom', 'decent', 1]]},\n",
       " {'breakfast': [['breakfast', 'free', 1]],\n",
       "  'internet': [['internet', 'free', 1]]},\n",
       " {'transportation': [['shuttle', 'right', 1]]},\n",
       " {'bathrooms': [['tub', 'hot', 1]], 'location': [['location', 'right', 1]]},\n",
       " {'location': [['river', 'lazy', -1]],\n",
       "  'facilities': [['facility', 'cleaner', 1]]},\n",
       " {},\n",
       " {'building': [['architecture', 'great', 1]]},\n",
       " {'bedrooms': [['bed', 'sweet', 1]], 'bathrooms': [['shower', 'heavenly', 1]]},\n",
       " {'location': [['view', 'amazing', 1]]},\n",
       " {'atmosphere': [['music', 'right', 1]]},\n",
       " {},\n",
       " {'bedrooms': [['bed', 'comfortable', 1]]},\n",
       " {},\n",
       " {},\n",
       " {'bathrooms': [['bathroom', 'spacious', 1]],\n",
       "  'internet': [['wifi', 'free', 1], ['wifi', 'free', 1]]},\n",
       " {'spa': [['spas', 'fancy', 1]], 'pool': [['pool', 'cool', 1]]},\n",
       " {'location': [['location', 'great', 1], ['location', 'good', 1]],\n",
       "  'coffee': [['coffee', 'good', 1]]},\n",
       " {'breakfast': [['breakfast', 'great', 1]],\n",
       "  'price': [['price', 'amazing', 1]]},\n",
       " {},\n",
       " {},\n",
       " {'bathrooms': [['bathroom', 'nice', 1]]},\n",
       " {},\n",
       " {'drinks': [['drinks', 'overpriced', -1]]},\n",
       " {},\n",
       " {},\n",
       " {},\n",
       " {'pool': [['pool', 'right', 1]]},\n",
       " {},\n",
       " {},\n",
       " {},\n",
       " {'breakfast': [['breakfast', 'lovely', 1]]},\n",
       " {'breakfast': [['breakfasts', 'free', 1]]},\n",
       " {},\n",
       " {'drinks': [['beer', 'good', 1]]},\n",
       " {'location': [['location', 'perfect', 1]]},\n",
       " {},\n",
       " {'bedrooms': [['sleep', 'best', 1]]},\n",
       " {'location': [['location', 'lovely', 1]], 'drinks': [['wine', 'awesome', 1]]},\n",
       " {'facilities': [['facilities', 'clean', 1]],\n",
       "  'parking': [['parking', 'available', 1]]},\n",
       " {'atmosphere': [['atmosphere', 'better', 1]]},\n",
       " {'atmosphere': [['light', 'ugly', -1]],\n",
       "  'bar': [['bar', 'nice', 1]],\n",
       "  'staff': [['staff', 'friendly', 1]]},\n",
       " {},\n",
       " {'restaurant': [['restaurants', 'great', 1]]},\n",
       " {'breakfast': [['breakfast', 'free', 1]]},\n",
       " {'location': [['location', 'great', 1]],\n",
       "  'cuisine': [['food', 'fast', 1]],\n",
       "  'internet': [['internet', 'free', 1]]},\n",
       " {'service': [['service', 'slow', -1]]},\n",
       " {},\n",
       " {'bathrooms': [['bathrooms', 'luxurious', 1]],\n",
       "  'amenities': [['amenities', 'wonderful', 1]],\n",
       "  'building': [['spot', 'favorite', 1]],\n",
       "  'restaurant': [['restaurants', 'terrific', 1]]},\n",
       " {'bedrooms': [['suite', 'nice', 1]],\n",
       "  'location': [['location', 'fantastic', 1]]},\n",
       " {},\n",
       " {'building': [['lounge', 'available', 1]]},\n",
       " {'location': [['location', 'better', 1], ['location', 'right', 1]],\n",
       "  'bathrooms': [['shower', 'cold', -1]]},\n",
       " {'building': [['architecture', 'impressive', 1]]},\n",
       " {'cleanliness': [['clean', 'pretty', 1]]},\n",
       " {},\n",
       " {},\n",
       " {},\n",
       " {'service': [['service', 'fabulous', 1]]},\n",
       " {},\n",
       " {},\n",
       " {},\n",
       " {},\n",
       " {},\n",
       " {'transportation': [['train', 'better', 1]],\n",
       "  'breakfast': [['breakfast', 'free', 1]],\n",
       "  'events': [['trip', 'great', 1]]},\n",
       " {},\n",
       " {},\n",
       " {},\n",
       " {},\n",
       " {'location': [['location', 'nice', 1]]},\n",
       " {},\n",
       " {'coffee': [['coffee', 'decent', 1]], 'bathrooms': [['towels', 'clean', 1]]},\n",
       " {'restaurant': [['restaurants', 'good', 1]]},\n",
       " {},\n",
       " {'staff': [['staff', 'awesome', 1]]},\n",
       " {},\n",
       " {},\n",
       " {},\n",
       " {},\n",
       " {},\n",
       " {'breakfast': [['breakfast', 'complimentary', 1], ['breakfast', 'free', 1]],\n",
       "  'bathrooms': [['tub', 'hot', 1]],\n",
       "  'transportation': [['shuttle', 'complimentary', 1]]},\n",
       " {},\n",
       " {},\n",
       " {},\n",
       " {'bedrooms': [['bed', 'comfortable', 1]], 'pool': [['pool', 'glorious', 1]]},\n",
       " {},\n",
       " {'bedrooms': [['bed', 'comfortable', 1]]},\n",
       " {'parking': [['parking', 'free', 1]],\n",
       "  'breakfast': [['breakfast', 'decent', 1]]},\n",
       " {'location': [['location', 'best', 1]]},\n",
       " {'pool': [['pool', 'gorgeous', 1]]},\n",
       " {'building': [['lounge', 'sweet', 1]]},\n",
       " {},\n",
       " {},\n",
       " {},\n",
       " {},\n",
       " {'location': [['street', 'noise', -1]], 'building': [['spot', 'perfect', 1]]},\n",
       " {'breakfast': [['breakfast', 'free', 1]]},\n",
       " {},\n",
       " {},\n",
       " {'price': [['price', 'reasonable', 1]]},\n",
       " {},\n",
       " {'location': [['location', 'great', 1]]},\n",
       " {},\n",
       " {'breakfast': [['breakfast', 'proper', 1]],\n",
       "  'location': [['location', 'good', 1]]},\n",
       " {},\n",
       " {'internet': [['wifi', 'free', 1]]},\n",
       " {},\n",
       " {},\n",
       " {'shopping': [['boutique', 'cute', 1]],\n",
       "  'price': [['price', 'amazing', 1]],\n",
       "  'location': [['views', 'good', 1]]},\n",
       " {},\n",
       " {},\n",
       " {},\n",
       " {},\n",
       " {'internet': [['wireless', 'free', 1]]},\n",
       " {'events': [['trip', 'great', 1]]},\n",
       " {},\n",
       " {},\n",
       " {},\n",
       " {'location': [['neighborhood', 'sketchy', -1]]},\n",
       " {},\n",
       " {'gym': [['gym', 'fantastic', 1]]},\n",
       " {'cleanliness': [['clean', 'reasonably', 1]],\n",
       "  'location': [['location', 'quiet', 1]]},\n",
       " {'building': [['spot', 'favorite', 1]]},\n",
       " {},\n",
       " {'service': [['service', 'impeccable', 1]]},\n",
       " {},\n",
       " {},\n",
       " {'breakfast': [['breakfast', 'complimentary', 1]]},\n",
       " {'location': [['view', 'amazing', 1]]},\n",
       " {'shopping': [['mall', 'nice', 1]]},\n",
       " {},\n",
       " {},\n",
       " {},\n",
       " {'building': [['spot', 'nice', 1]]},\n",
       " {},\n",
       " {'cleanliness': [['dirty', 'pretty', 1]]},\n",
       " {},\n",
       " {'staff': [['staff', 'great', 1]], 'internet': [['wifi', 'free', 1]]},\n",
       " {'restaurant': [['restaurants', 'nice', 1]]},\n",
       " {},\n",
       " {},\n",
       " {'internet': [['wifi', 'free', 1]]},\n",
       " {'price': [['fee', 'exorbitant', -1]],\n",
       "  'internet': [['internet', 'excellent', 1]]},\n",
       " {'atmosphere': [['music', 'decent', 1]]},\n",
       " {},\n",
       " {'cleanliness': [['clean', 'wonderfully', 1]]},\n",
       " {'breakfast': [['breakfast', 'free', 1]]},\n",
       " {'bathrooms': [['bath', 'nice', 1]]},\n",
       " {},\n",
       " {'cuisine': [['foods', 'good', 1]]},\n",
       " {'location': [['location', 'ideal', 1]],\n",
       "  'building': [['spot', 'perfect', 1]]},\n",
       " {},\n",
       " {},\n",
       " {'bar': [['bar', 'cool', 1]]},\n",
       " {'location': [['location', 'great', 1]],\n",
       "  'dinner': [['dinner', 'great', 1]],\n",
       "  'amenities': [['amenities', 'available', 1]]},\n",
       " {'transportation': [['shuttle', 'free', 1]],\n",
       "  'breakfast': [['breakfast', 'hot', 1]],\n",
       "  'amenities': [['amenities', 'great', 1]]},\n",
       " {},\n",
       " {},\n",
       " {},\n",
       " {},\n",
       " {'cuisine': [['food', 'great', 1]]},\n",
       " {'bedrooms': [['bed', 'crappy', -1]]},\n",
       " {},\n",
       " {},\n",
       " {},\n",
       " {},\n",
       " {'internet': [['wireless', 'free', 1]]},\n",
       " {},\n",
       " {'spa': [['spa', 'amazing', 1]]},\n",
       " {},\n",
       " {},\n",
       " {},\n",
       " {'bathrooms': [['tub', 'hot', 1]]},\n",
       " {'service': [['service', 'great', 1]], 'internet': [['internet', 'free', 1]]},\n",
       " {'location': [['views', 'panoramic', 1]]},\n",
       " {},\n",
       " {'location': [['views', 'exquisite', 1]],\n",
       "  'drinks': [['drinks', 'delicious', 1]]},\n",
       " {'bathrooms': [['tub', 'hot', 1]]},\n",
       " {},\n",
       " {'staff': [['staff', 'attentive', 1]]},\n",
       " {'cleanliness': [['clean', 'right', 1]]},\n",
       " {},\n",
       " {},\n",
       " {},\n",
       " {'bathrooms': [['bathtub', 'amazing', 1]]},\n",
       " {'service': [['service', 'great', 1]]},\n",
       " {},\n",
       " {},\n",
       " {'breakfast': [['breakfast', 'free', 1]]},\n",
       " {'facilities': [['facility', 'nice', 1]],\n",
       "  'cuisine': [['food', 'amazing', 1]]},\n",
       " {'bedrooms': [['beds', 'comfortable', 1]], 'building': [['spot', 'safe', 1]]},\n",
       " {},\n",
       " {'atmosphere': [['music', 'loud', -1]], 'parking': [['parking', 'free', 1]]},\n",
       " {'location': [['views', 'great', 1], ['view', 'nice', 1]]},\n",
       " {'internet': [['internet', 'free', 1]],\n",
       "  'cuisine': [['buffet', 'free', 1]],\n",
       "  'location': [['location', 'great', 1]]},\n",
       " {},\n",
       " {'internet': [['wifi', 'complimentary', 1], ['wifi', 'complimentary', 1]]},\n",
       " {'building': [['lounge', 'great', 1]]},\n",
       " {},\n",
       " {'cuisine': [['menu', 'limited', -1]]},\n",
       " {'checking': [['check-in', 'austere', -1]],\n",
       "  'pool': [['pool', 'creepy', -1]],\n",
       "  'location': [['river', 'lazy', -1], ['river', 'lazy', -1]],\n",
       "  'staff': [['staff', 'nice', 1]]},\n",
       " {'atmosphere': [['lighting', 'beautiful', 1]], 'bar': [['bar', 'great', 1]]},\n",
       " {'location': [['location', 'convenient', 1]]},\n",
       " {'bathrooms': [['bathroom', 'clean', 1]]},\n",
       " {},\n",
       " {'bedrooms': [['bedroom', 'lovely', 1]]},\n",
       " {},\n",
       " {},\n",
       " {},\n",
       " {},\n",
       " {'internet': [['wifi', 'free', 1], ['wifi', 'free', 1]]},\n",
       " {},\n",
       " {'checking': [['check', 'friendly', 1]]},\n",
       " {},\n",
       " {},\n",
       " {'events': [['activities', 'great', 1]]},\n",
       " {},\n",
       " {'cuisine': [['food', 'good', 1]]},\n",
       " {},\n",
       " {},\n",
       " {'staff': [['staff', 'friendly', 1]], 'bathrooms': [['tub', 'hot', 1]]},\n",
       " {'pool': [['pools', 'available', 1]]},\n",
       " {'bedrooms': [['bed', 'heavenly', 1]],\n",
       "  'parking': [['parking', 'free', 1]],\n",
       "  'building': [['lobby', 'attractive', 1]]},\n",
       " {'building': [['patios', 'nice', 1]],\n",
       "  'cuisine': [['menu', 'good', 1]],\n",
       "  'spa': [['spa', 'lovely', 1]]},\n",
       " {'breakfast': [['breakfast', 'free', 1], ['breakfast', 'complimentary', 1]],\n",
       "  'location': [['situations', 'unpleasant', -1]]},\n",
       " {},\n",
       " {'building': [['lounge', 'comfortable', 1]],\n",
       "  'drinks': [['drink', 'stiff', -1]]},\n",
       " {'breakfast': [['breakfast', 'complementary', 1]]},\n",
       " {},\n",
       " {},\n",
       " {'internet': [['wi-fi', 'free', 1]]},\n",
       " {'pool': [['pool', 'awesome', 1]], 'location': [['views', 'great', 1]]},\n",
       " {'drinks': [['wine', 'complimentary', 1]],\n",
       "  'bedrooms': [['beds', 'comfortable', 1]]},\n",
       " {'facilities': [['facilities', 'better', 1]]},\n",
       " {},\n",
       " {},\n",
       " {},\n",
       " {},\n",
       " {'bedrooms': [['sleep', 'dead', -1]]},\n",
       " {'coffee': [['coffee', 'good', 1]],\n",
       "  'breakfast': [['breakfast', 'decent', 1]]},\n",
       " {},\n",
       " {'cleanliness': [['smell', 'funny', -1]],\n",
       "  'parking': [['parking', 'free', 1]]},\n",
       " {'coffee': [['tea', 'wonderful', 1]]},\n",
       " {},\n",
       " {},\n",
       " {},\n",
       " {'bathrooms': [['tubs', 'hot', 1]]},\n",
       " {},\n",
       " {},\n",
       " {'internet': [['wireless', 'free', 1]], 'bathrooms': [['tub', 'hot', 1]]},\n",
       " {},\n",
       " {},\n",
       " {'price': [['price', 'good', 1]]},\n",
       " {},\n",
       " {'service': [['service', 'impeccable', 1]],\n",
       "  'cuisine': [['food', 'top-notch', 1]]},\n",
       " {'cuisine': [['food', 'great', 1]]},\n",
       " {},\n",
       " {'location': [['view', 'nice', 1]]},\n",
       " {},\n",
       " {},\n",
       " {'service': [['service', 'poor', -1]]},\n",
       " {'location': [['view', 'great', 1]], 'bathrooms': [['tub', 'hot', 1]]},\n",
       " {'cuisine': [['food', 'great', 1]]},\n",
       " {},\n",
       " {'pool': [['pool', 'beautiful', 1]],\n",
       "  'building': [['spot', 'great', 1]],\n",
       "  'cleanliness': [['clean', 'beautiful', 1]],\n",
       "  'bathrooms': [['tub', 'hot', 1]]},\n",
       " {},\n",
       " {},\n",
       " {},\n",
       " {},\n",
       " {'staff': [['staff', 'friendly', 1]]},\n",
       " {},\n",
       " {},\n",
       " {},\n",
       " {'service': [['service', 'attentive', 1]]},\n",
       " {'bathrooms': [['shower', 'nice', 1], ['bath', 'nice', 1]],\n",
       "  'location': [['location', 'great', 1]]},\n",
       " {},\n",
       " {},\n",
       " {'breakfast': [['breakfast', 'skimpy', -1], ['breakfast', 'poor', -1]]},\n",
       " {'cuisine': [['buffet', 'complementary', 1]]},\n",
       " {},\n",
       " {},\n",
       " {},\n",
       " {},\n",
       " {},\n",
       " {},\n",
       " {},\n",
       " {'pool': [['pools', 'incredible', 1]]},\n",
       " {},\n",
       " {},\n",
       " {'building': [['patio', 'nice', 1]]},\n",
       " {'building': [['lounge', 'top', 1]]},\n",
       " {'bedrooms': [['beds', 'comfortable', 1]],\n",
       "  'cuisine': [['food', 'hot', 1], ['food', 'fast', 1]]},\n",
       " {},\n",
       " {'drinks': [['drinks', 'cheap', -1]],\n",
       "  'breakfast': [['breakfast', 'free', 1]],\n",
       "  'coffee': [['coffee', 'free', 1]]},\n",
       " {},\n",
       " {'building': [['furniture', 'crazy', -1], ['lobby', 'great', 1]],\n",
       "  'pool': [['pool', 'great', 1]],\n",
       "  'location': [['location', 'great', 1]],\n",
       "  'bathrooms': [['shower', 'great', 1], ['bathroom', 'clean', 1]]},\n",
       " {},\n",
       " {},\n",
       " {},\n",
       " {'staff': [['staff', 'helpful', 1]],\n",
       "  'parking': [['parking', 'free', 1]],\n",
       "  'coffee': [['coffee', 'complimentary', 1]]},\n",
       " {},\n",
       " {},\n",
       " {'building': [['patio', 'lovely', 1], ['decor', 'comfortable', 1]],\n",
       "  'bathrooms': [['bathroom', 'awesome', 1]],\n",
       "  'staff': [['manager', 'sweet', 1]]},\n",
       " {'service': [['service', 'amazing', 1]]},\n",
       " {'cuisine': [['food', 'wonderful', 1]]},\n",
       " {'internet': [['wireless', 'free', 1]], 'bathrooms': [['bath', 'nice', 1]]},\n",
       " {},\n",
       " {},\n",
       " {},\n",
       " {'cuisine': [['meal', 'nice', 1]]},\n",
       " {},\n",
       " {'location': [['view', 'decent', 1]],\n",
       "  'bedrooms': [['bed', 'comfortable', 1]]},\n",
       " {'internet': [['wifi', 'free', 1]]},\n",
       " {'atmosphere': [['atmosphere', 'pretentious', -1]],\n",
       "  'events': [['party', 'attractive', 1]]},\n",
       " {'building': [['lounge', 'luxurious', 1], ['spot', 'hot', 1]],\n",
       "  'cleanliness': [['clean', 'spotless', 1]],\n",
       "  'amenities': [['amenities', 'clean', 1], ['amenities', 'awesome', 1]],\n",
       "  'atmosphere': [['atmosphere', 'youthful', 1]]},\n",
       " {'pool': [['pool', 'nice', 1]], 'transportation': [['shuttle', 'free', 1]]},\n",
       " {'service': [['service', 'lovely', 1]]},\n",
       " {'building': [['lobby', 'nice', 1]]},\n",
       " {},\n",
       " {'bathrooms': [['shower', 'strange', -1], ['towels', 'nice', 1]]},\n",
       " {},\n",
       " {},\n",
       " {'building': [['lounge', 'boring', -1]]},\n",
       " {'building': [['lounge', 'cool', 1]], 'location': [['view', 'pretty', 1]]},\n",
       " {},\n",
       " {'bedrooms': [['suites', 'clean', 1], ['beds', 'comfortable', 1]]},\n",
       " {'breakfast': [['breakfast', 'complimentary', 1]],\n",
       "  'restaurant': [['restaurant', 'good', 1]],\n",
       "  'bedrooms': [['beds', 'comfy', 1]],\n",
       "  'bathrooms': [['tub', 'hot', 1], ['tub', 'conveniently', 1]]},\n",
       " {},\n",
       " {'cleanliness': [['clean', 'immaculately', 1]]},\n",
       " {'building': [['lobby', 'swanky', 1]]},\n",
       " {},\n",
       " {},\n",
       " {'location': [['landscape', 'beautiful', 1]]},\n",
       " {},\n",
       " {},\n",
       " {'location': [['location', 'great', 1], ['location', 'nice', 1]],\n",
       "  'bedrooms': [['bed', 'soft', 1]],\n",
       "  'building': [['decor', 'modern', 1]]},\n",
       " {},\n",
       " {'location': [['river', 'lazy', -1]]},\n",
       " {},\n",
       " {'amenities': [['services', 'efficient', 1]]},\n",
       " {},\n",
       " {},\n",
       " {},\n",
       " {'location': [['neighborhood', 'best', 1]]},\n",
       " {'breakfast': [['breakfast', 'complimentary', 1]],\n",
       "  'staff': [['staff', 'attentive', 1]],\n",
       "  'cuisine': [['food', 'decent', 1]]},\n",
       " {},\n",
       " {'staff': [['staff', 'terrible', -1]],\n",
       "  'facilities': [['facility', 'nice', 1]]},\n",
       " {'amenities': [['amenities', 'great', 1]]},\n",
       " {},\n",
       " {'breakfast': [['breakfast', 'free', 1]]},\n",
       " {'cuisine': [['food', 'great', 1]], 'breakfast': [['breakfast', 'free', 1]]},\n",
       " {},\n",
       " {'breakfast': [['breakfast', 'hot', 1]]},\n",
       " {'bedrooms': [['bed', 'comfortable', 1]],\n",
       "  'restaurant': [['restaurants', 'nice', 1]],\n",
       "  'coffee': [['coffee', 'better', 1]]},\n",
       " {},\n",
       " {'bedrooms': [['bed', 'comfortable', 1]]},\n",
       " {'staff': [['staff', 'pleasant', 1]]},\n",
       " {},\n",
       " {},\n",
       " {'bathrooms': [['towels', 'clean', 1]]},\n",
       " {'location': [['views', 'great', 1]]},\n",
       " {'cuisine': [['meal', 'fabulous', 1]]},\n",
       " {'coffee': [['coffee', 'free', 1]], 'breakfast': [['breakfast', 'free', 1]]},\n",
       " {'staff': [['employee', 'outstanding', 1]]},\n",
       " {'staff': [['staff', 'friendly', 1]]},\n",
       " {},\n",
       " {'staff': [['staff', 'great', 1]], 'bedrooms': [['bedroom', 'spacious', 1]]},\n",
       " {'spa': [['spa', 'wonderful', 1]],\n",
       "  'building': [['furniture', 'gorgeous', 1]],\n",
       "  'bathrooms': [['towels', 'fresh', 1]]},\n",
       " {'location': [['location', 'great', 1]]},\n",
       " {},\n",
       " {'bar': [['bar', 'cool', 1]], 'cuisine': [['food', 'enough', 1]]},\n",
       " {},\n",
       " {},\n",
       " {},\n",
       " {'bedrooms': [['beds', 'comfortable', 1]], 'cuisine': [['meal', 'hot', 1]]},\n",
       " {},\n",
       " {'pool': [['pool', 'cool', 1]]},\n",
       " {'restaurant': [['restaurant', 'nice', 1]],\n",
       "  'location': [['river', 'lazy', -1]]},\n",
       " {},\n",
       " {},\n",
       " {'location': [['view', 'terrible', -1]],\n",
       "  'restaurant': [['restaurants', 'good', 1]]},\n",
       " {},\n",
       " {'internet': [['internet', 'easy', 1]]},\n",
       " {},\n",
       " {},\n",
       " {'pool': [['swimming', 'comfortable', 1]]},\n",
       " {},\n",
       " {},\n",
       " {},\n",
       " {'location': [['views', 'amazing', 1]]},\n",
       " {},\n",
       " {},\n",
       " {},\n",
       " {},\n",
       " {},\n",
       " {'bedrooms': [['pillows', 'soft', 1]], 'parking': [['parking', 'free', 1]]},\n",
       " {},\n",
       " {'bathrooms': [['shower', 'hot', 1]],\n",
       "  'internet': [['internet', 'free', 1]],\n",
       "  'location': [['location', 'great', 1]]},\n",
       " {},\n",
       " {},\n",
       " {'cuisine': [['menu', 'limited', -1]]},\n",
       " {'parking': [['parking', 'available', 1]]},\n",
       " {},\n",
       " {},\n",
       " {'staff': [['staff', 'responsive', 1]]},\n",
       " {'building': [['lobby', 'spacious', 1]]},\n",
       " {'location': [['views', 'great', 1], ['river', 'lazy', -1]]},\n",
       " {'service': [['service', 'great', 1]]},\n",
       " {'location': [['location', 'convenient', 1]],\n",
       "  'facilities': [['equipment', 'adequate', 1]]},\n",
       " {'location': [['view', 'great', 1]]},\n",
       " {'pool': [['pool', 'nice', 1]], 'staff': [['staff', 'attentive', 1]]},\n",
       " {'drinks': [['wine', 'limited', -1]], 'service': [['service', 'poor', -1]]},\n",
       " {},\n",
       " {'location': [['river', 'lazy', -1]]},\n",
       " {'cleanliness': [['clean', 'impeccably', 1]]},\n",
       " {},\n",
       " {'transportation': [['shuttle', 'free', 1]],\n",
       "  'breakfast': [['breakfast', 'free', 1]]},\n",
       " {},\n",
       " {},\n",
       " {},\n",
       " {'bathrooms': [['bathroom', 'luxurious', 1]]},\n",
       " {},\n",
       " {'breakfast': [['breakfast', 'hot', 1]],\n",
       "  'bedrooms': [['suite', 'complimentary', 1]]},\n",
       " {'cuisine': [['menu', 'stunning', 1]]},\n",
       " {'atmosphere': [['music', 'great', 1]], 'spa': [['spa', 'great', 1]]},\n",
       " {'cleanliness': [['dirty', 'pretty', 1]]},\n",
       " {'building': [['building', 'upscale', 1]]},\n",
       " {'pool': [['pool', 'well', 1]],\n",
       "  'bathrooms': [['tub', 'hot', 1]],\n",
       "  'internet': [['wi-fi', 'free', 1]],\n",
       "  'restaurant': [['restaurant', 'stylish', 1]],\n",
       "  'cuisine': [['food', 'decent', 1]],\n",
       "  'price': [['price', 'good', 1]]},\n",
       " {},\n",
       " {'dinner': [['dinner', 'memorable', 1]]},\n",
       " {'bathrooms': [['tubs', 'hot', 1]]},\n",
       " {},\n",
       " {},\n",
       " {},\n",
       " {'events': [['events', 'cool', 1]]},\n",
       " {},\n",
       " {'cuisine': [['food', 'great', 1]], 'location': [['view', 'amazing', 1]]},\n",
       " {},\n",
       " {'bedrooms': [['sheets', 'dirty', -1]]},\n",
       " {},\n",
       " {'breakfast': [['breakfast', 'free', 1]], 'building': [['spot', 'good', 1]]},\n",
       " {'transportation': [['shuttle', 'free', 1]],\n",
       "  'bedrooms': [['sleep', 'comfortably', 1]]},\n",
       " {'building': [['spot', 'perfect', 1], ['patio', 'top', 1]],\n",
       "  'pool': [['pool', 'beautiful', 1]]},\n",
       " {},\n",
       " {},\n",
       " {},\n",
       " {'internet': [['wireless', 'free', 1]],\n",
       "  'breakfast': [['breakfast', 'free', 1]],\n",
       "  'location': [['neighborhood', 'safe', 1]],\n",
       "  'pool': [['pool', 'decent', 1]],\n",
       "  'dinner': [['dinners', 'free', 1]]},\n",
       " {'internet': [['wi-fi', 'free', 1]]},\n",
       " {'amenities': [['amenity', 'worst', -1]]},\n",
       " {},\n",
       " {'spa': [['spa', 'majestic', 1]]},\n",
       " {'pool': [['pool', 'great', 1]], 'bathrooms': [['tubs', 'hot', 1]]},\n",
       " {'pool': [['pool', 'awesome', 1]]},\n",
       " {'cuisine': [['food', 'good', 1]]},\n",
       " {'parking': [['parking', 'free', 1]], 'internet': [['wifi', 'free', 1]]},\n",
       " {'facilities': [['facilities', 'nice', 1]]},\n",
       " {'breakfast': [['breakfast', 'free', 1]]},\n",
       " {},\n",
       " {},\n",
       " {'location': [['view', 'lovely', 1]]},\n",
       " {'price': [['priced', 'reasonably', 1]]},\n",
       " {'internet': [['wifi', 'free', 1]],\n",
       "  'price': [['price', 'good', 1]],\n",
       "  'bathrooms': [['towels', 'fresh', 1]],\n",
       "  'cuisine': [['food', 'cold', -1]]},\n",
       " {},\n",
       " {'location': [['views', 'amazing', 1]]},\n",
       " {'location': [['location', 'good', 1]]},\n",
       " {},\n",
       " {},\n",
       " {},\n",
       " {'bar': [['bars', 'trendy', 1]]},\n",
       " {'cleanliness': [['clean', 'super', 1]]},\n",
       " {'location': [['view', 'lovely', 1]], 'building': [['decor', 'archaic', -1]]},\n",
       " {'price': [['price', 'great', 1]]},\n",
       " {'staff': [['staff', 'excellent', 1]],\n",
       "  'location': [['location', 'great', 1]],\n",
       "  'bedrooms': [['bed', 'comfortable', 1]],\n",
       "  'bathrooms': [['shower', 'nice', 1]]},\n",
       " {},\n",
       " {'bathrooms': [['tub', 'hot', 1]]},\n",
       " {},\n",
       " {'staff': [['staff', 'welcome', 1]]},\n",
       " {},\n",
       " {'atmosphere': [['music', 'nice', 1]]},\n",
       " {},\n",
       " {'price': [['price', 'great', 1]]},\n",
       " {'service': [['service', 'proper', 1]]},\n",
       " {'breakfast': [['breakfast', 'hot', 1]]},\n",
       " {},\n",
       " {},\n",
       " {'bedrooms': [['sheet', 'top', 1]], 'checking': [['checking', 'worth', 1]]},\n",
       " {'location': [['location', 'great', 1]]},\n",
       " {},\n",
       " {'bedrooms': [['bed', 'best', 1]]},\n",
       " {'staff': [['staff', 'friendly', 1]]},\n",
       " {'breakfast': [['breakfast', 'nice', 1]]},\n",
       " {'bathrooms': [['tub', 'hot', 1]]},\n",
       " {},\n",
       " {},\n",
       " {'internet': [['internet', 'free', 1]],\n",
       "  'breakfast': [['breakfast', 'free', 1]],\n",
       "  'bathrooms': [['tub', 'hot', 1]],\n",
       "  'amenities': [['amenities', 'good', 1]]},\n",
       " {'pool': [['pool', 'nice', 1]]},\n",
       " {'location': [['location', 'good', 1]]},\n",
       " {},\n",
       " {},\n",
       " {'pool': [['pool', 'awesome', 1]]},\n",
       " {},\n",
       " {},\n",
       " {},\n",
       " {},\n",
       " {'service': [['service', 'decent', 1]]},\n",
       " {},\n",
       " {},\n",
       " {'bathrooms': [['towels', 'plentiful', 1]]},\n",
       " {'cleanliness': [['clean', 'nice', 1], ['clean', 'affordable', 1]],\n",
       "  'bathrooms': [['shower', 'great', 1]],\n",
       "  'breakfast': [['breakfast', 'complimentary', 1], ['breakfast', 'great', 1]],\n",
       "  'gym': [['gym', 'nice', 1]]},\n",
       " {'location': [['view', 'great', 1]]},\n",
       " {},\n",
       " {},\n",
       " {'location': [['river', 'lazy', -1]]},\n",
       " {'price': [['prices', 'pretty', 1]]},\n",
       " {'price': [['price', 'cheaper', 1]]},\n",
       " {},\n",
       " {},\n",
       " {},\n",
       " {},\n",
       " {'bedrooms': [['beds', 'cheap', -1]], 'pool': [['pool', 'better', 1]]},\n",
       " {'breakfast': [['breakfast', 'free', 1], ['breakfast', 'free', 1]]},\n",
       " {'drinks': [['drinks', 'cold', -1]]},\n",
       " {},\n",
       " {'staff': [['staff', 'wonderful', 1]]},\n",
       " {},\n",
       " {},\n",
       " {},\n",
       " {},\n",
       " {},\n",
       " {'cuisine': [['menu', 'limited', -1]]},\n",
       " {},\n",
       " {},\n",
       " {},\n",
       " {},\n",
       " {},\n",
       " {},\n",
       " {},\n",
       " {'cuisine': [['food', 'good', 1]], 'bathrooms': [['shower', 'hot', 1]]},\n",
       " {'bathrooms': [['tub', 'hot', 1], ['tub', 'hot', 1]]},\n",
       " {'shopping': [['mall', 'nice', 1]]},\n",
       " {},\n",
       " {'spa': [['spa', 'hot', 1]], 'location': [['location', 'better', 1]]},\n",
       " {'staff': [['staff', 'decent', 1]]},\n",
       " {},\n",
       " {'bathrooms': [['tub', 'hot', 1]]},\n",
       " {},\n",
       " {},\n",
       " {},\n",
       " {'breakfast': [['breakfast', 'hot', 1], ['breakfast', 'hot', 1]]},\n",
       " {},\n",
       " {'building': [['patio', 'nice', 1], ['lounge', 'comfortable', 1]]},\n",
       " {},\n",
       " {'service': [['service', 'better', 1], ['service', 'poor', -1]]},\n",
       " {},\n",
       " {},\n",
       " {'location': [['river', 'lazy', -1]], 'pool': [['pool', 'cool', 1]]},\n",
       " {'breakfast': [['breakfast', 'adequate', 1]],\n",
       "  'service': [['service', 'free', 1]],\n",
       "  'facilities': [['equipment', 'fabulous', 1]],\n",
       "  'location': [['location', 'great', 1]]},\n",
       " {},\n",
       " {},\n",
       " {'bathrooms': [['bathroom', 'awesome', 1]]},\n",
       " {},\n",
       " {'transportation': [['shuttle', 'complimentary', 1]]},\n",
       " {'restrooms': [['restrooms', 'clean', 1]],\n",
       "  'bedrooms': [['beds', 'comfortable', 1]]},\n",
       " {},\n",
       " {},\n",
       " {'service': [['service', 'better', 1]]},\n",
       " {'staff': [['staff', 'attentive', 1]]},\n",
       " {},\n",
       " {},\n",
       " {},\n",
       " {},\n",
       " {},\n",
       " {'drinks': [['drinks', 'free', 1]], 'bathrooms': [['tubs', 'hot', 1]]},\n",
       " {},\n",
       " {'cuisine': [['food', 'great', 1]],\n",
       "  'bedrooms': [['beds', 'comfortable', 1]],\n",
       "  'bathrooms': [['bathrooms', 'clean', 1]]},\n",
       " {},\n",
       " {'location': [['location', 'great', 1]]},\n",
       " {'bathrooms': [['tub', 'hot', 1]],\n",
       "  'bedrooms': [['bed', 'comfortable', 1]],\n",
       "  'internet': [['internet', 'free', 1]]},\n",
       " {'staff': [['employees', 'nice', 1]]},\n",
       " {'location': [['view', 'great', 1]]},\n",
       " {'location': [['view', 'great', 1], ['view', 'great', 1]]},\n",
       " {},\n",
       " {'bathrooms': [['tub', 'hot', 1]]},\n",
       " {},\n",
       " {'pool': [['pool', 'beautiful', 1]]},\n",
       " {'gym': [['gym', 'well', 1]]},\n",
       " {},\n",
       " {'internet': [['wifi', 'free', 1]],\n",
       "  'location': [['location', 'convenient', 1]]},\n",
       " {},\n",
       " {'bathrooms': [['tub', 'hot', 1]]},\n",
       " {},\n",
       " {},\n",
       " {},\n",
       " {'service': [['service', 'great', 1]],\n",
       "  'facilities': [['facility', 'comprehensive', 1]]},\n",
       " {},\n",
       " {},\n",
       " {'building': [['lobby', 'beautiful', 1]],\n",
       "  'service': [['service', 'attentive', 1]],\n",
       "  'cuisine': [['food', 'complimentary', 1]]},\n",
       " {'internet': [['internet', 'fast', 1]]},\n",
       " {},\n",
       " {},\n",
       " {},\n",
       " {},\n",
       " {},\n",
       " {},\n",
       " {},\n",
       " {'pool': [['pool', 'awesome', 1]], 'location': [['view', 'amazing', 1]]},\n",
       " {'location': [['view', 'nice', 1]]},\n",
       " {'location': [['views', 'beautiful', 1]]},\n",
       " {},\n",
       " {},\n",
       " {},\n",
       " ...]"
      ]
     },
     "execution_count": 39,
     "metadata": {},
     "output_type": "execute_result"
    }
   ],
   "source": [
    "aspect_opinions"
   ]
  },
  {
   "cell_type": "markdown",
   "metadata": {},
   "source": [
    "As before, we might also want to check the entire sentence where an aspect opinion was found:"
   ]
  },
  {
   "cell_type": "code",
   "execution_count": null,
   "metadata": {},
   "outputs": [
    {
     "name": "stdout",
     "output_type": "stream",
     "text": [
      "Aspect: drinks              Term: drinks         \n",
      "Context: i sat around for days on couches drinking bloody mary 's and\u001b[03m\u001b[35m frozen \u001b[0m\u001b[01m\u001b[31m drinks \u001b[0m.\n",
      "\n",
      "\n",
      "Aspect: drinks              Term: drink          \n",
      "Context: the lobby bar had a deadly but\u001b[03m\u001b[35m wonderful \u001b[0m\u001b[01m\u001b[31m drink \u001b[0mcalled the stardust .\n",
      "\n",
      "\n",
      "Aspect: cuisine             Term: food           \n",
      "Context: Valley Ho had\u001b[03m\u001b[35m better \u001b[0m\u001b[01m\u001b[31m food \u001b[0mand more style , but Royal Palms had a bit more to it and better service .\n",
      "\n",
      "\n",
      "Aspect: service             Term: service        \n",
      "Context: Valley Ho had better food and more style , but Royal Palms had a bit more to it and\u001b[03m\u001b[35m better \u001b[0m\u001b[01m\u001b[31m service \u001b[0m.\n",
      "\n",
      "\n"
     ]
    }
   ],
   "source": [
    "idx = 13\n",
    "text = reviews[idx].get('reviewText')\n",
    "nlp.basic_parse_opinion(text, aspect_positions[idx], opinion_lexicon, show_context=True)"
   ]
  },
  {
   "cell_type": "markdown",
   "metadata": {},
   "source": [
    "The default context considered when looking for adjs/advs is +/-1 around the aspect term. A bigger context may be considered."
   ]
  },
  {
   "cell_type": "code",
   "execution_count": null,
   "metadata": {},
   "outputs": [
    {
     "name": "stdout",
     "output_type": "stream",
     "text": [
      "Aspect: events              Term: trip           \n",
      "Context: I went to the Valley Ho on an\u001b[03m\u001b[35m amazing \u001b[0mbusiness\u001b[01m\u001b[31m trip \u001b[0mthat involved rock stars and the Oakland Athletics , which happen to be my favorite team .\n",
      "\n",
      "\n",
      "Aspect: building            Term: decor          \n",
      "Context: the\u001b[01m\u001b[31m decor \u001b[0mwas\u001b[03m\u001b[35m fantastic \u001b[0m, the rooms were huge , with huge tubs , a poolside patio and a comfy chaise lounge .\n",
      "\n",
      "\n",
      "Aspect: building            Term: lounge         \n",
      "Context: the decor was fantastic , the rooms were huge , with huge tubs , a poolside patio and a\u001b[03m\u001b[35m comfy \u001b[0mchaise\u001b[01m\u001b[31m lounge \u001b[0m.\n",
      "\n",
      "\n",
      "Aspect: pool                Term: pool           \n",
      "Context: the\u001b[01m\u001b[31m pool \u001b[0mwas\u001b[03m\u001b[35m phenomenal \u001b[0m.\n",
      "\n",
      "\n",
      "Aspect: drinks              Term: drinks         \n",
      "Context: i sat around for days on couches drinking bloody mary 's and\u001b[03m\u001b[35m frozen \u001b[0m\u001b[01m\u001b[31m drinks \u001b[0m.\n",
      "\n",
      "\n",
      "Aspect: drinks              Term: drink          \n",
      "Context: the lobby bar had a deadly but\u001b[03m\u001b[35m wonderful \u001b[0m\u001b[01m\u001b[31m drink \u001b[0mcalled the stardust .\n",
      "\n",
      "\n",
      "Aspect: cuisine             Term: food           \n",
      "Context: Valley Ho had\u001b[03m\u001b[35m better \u001b[0m\u001b[01m\u001b[31m food \u001b[0mand more style , but Royal Palms had a bit more to it and better service .\n",
      "\n",
      "\n",
      "Aspect: service             Term: service        \n",
      "Context: Valley Ho had better food and more style , but Royal Palms had a bit more to it and\u001b[03m\u001b[35m better \u001b[0m\u001b[01m\u001b[31m service \u001b[0m.\n",
      "\n",
      "\n"
     ]
    }
   ],
   "source": [
    "idx = 13\n",
    "text = reviews[idx].get('reviewText')\n",
    "nlp.basic_parse_opinion(text, aspect_positions[idx], opinion_lexicon, context_range=2,show_context=True)"
   ]
  },
  {
   "cell_type": "markdown",
   "metadata": {},
   "source": [
    "This simple approach allows us to extract considerable information, but in order to find modifiers and negations a more sofisticated version using dependency parsing was developed. This should allow to match only adjs/advs that truly reference the aspect term, and to do so independently of how far they are."
   ]
  },
  {
   "cell_type": "markdown",
   "metadata": {},
   "source": [
    "***Advanced opinion extraction***"
   ]
  },
  {
   "cell_type": "markdown",
   "metadata": {},
   "source": [
    "Dependency parsing allowed to find adjs/advs related to the aspect term, and likewise, modifiers related to the adjs/advs. The final polarity of the opinion was obtained by multiplying the term's polarity with the modifier's polarity."
   ]
  },
  {
   "cell_type": "code",
   "execution_count": null,
   "metadata": {},
   "outputs": [
    {
     "name": "stderr",
     "output_type": "stream",
     "text": [
      "Review progress: 100%|██████████| 5034/5034 [32:40<00:00,  2.57it/s]  "
     ]
    },
    {
     "name": "stdout",
     "output_type": "stream",
     "text": [
      "{'pool': [['pool', 'awesome', '', 'Neg=False', 1]], 'bar': [['bar', 'great', '', 'Neg=False', 1]]}\n"
     ]
    },
    {
     "name": "stderr",
     "output_type": "stream",
     "text": [
      "\n"
     ]
    }
   ],
   "source": [
    "aspect_opinions = []\n",
    "for i in tqdm(range(len(reviews)), desc=\"Review progress\"):\n",
    "    review = reviews[i]\n",
    "    text = review.get('reviewText')\n",
    "    aspect_opinions.append(nlp.advanced_parse_opinion(text, aspect_positions[i], \n",
    "                                                      opinion_lexicon, modifiers, corenlp_port=9500))\n",
    "    \n",
    "print(aspect_opinions[0])"
   ]
  },
  {
   "cell_type": "markdown",
   "metadata": {},
   "source": [
    "It's somewhat hard to find examples with modifiers or negations. Next, some handpicked ones are presented.\n",
    "\n",
    "A function was created to clearly display the opinions found. The number in parenthesis represents the final polarity assigned to the term (taking into account the modifications and negations)."
   ]
  },
  {
   "cell_type": "code",
   "execution_count": null,
   "metadata": {},
   "outputs": [
    {
     "name": "stdout",
     "output_type": "stream",
     "text": [
      "Aspect: building\n",
      "\tTerm: spot (0.5): fun, pretty, Neg=False\n",
      "Aspect: service\n",
      "\tTerm: service (-1): poor, , Neg=False\n",
      "\tTerm: attitudes (-1): bad, , Neg=False\n",
      "Aspect: staff\n",
      "\tTerm: patrons (-1): obnoxious, , Neg=False\n"
     ]
    }
   ],
   "source": [
    "nlp.display_opinions(aspect_opinions[17])"
   ]
  },
  {
   "cell_type": "code",
   "execution_count": null,
   "metadata": {},
   "outputs": [
    {
     "name": "stdout",
     "output_type": "stream",
     "text": [
      "Aspect: pool\n",
      "\tTerm: pools (2.0): pretty, very, Neg=False\n"
     ]
    }
   ],
   "source": [
    "nlp.display_opinions(aspect_opinions[19])"
   ]
  },
  {
   "cell_type": "code",
   "execution_count": null,
   "metadata": {},
   "outputs": [
    {
     "name": "stdout",
     "output_type": "stream",
     "text": [
      "Aspect: facilities\n",
      "\tTerm: facilities (1): clean, , Neg=False\n",
      "Aspect: staff\n",
      "\tTerm: staff (1): fantastic, , Neg=False\n",
      "\tTerm: staff (-1): childish, , Neg=False\n",
      "Aspect: building\n",
      "\tTerm: spot (1): hot, , Neg=False\n",
      "Aspect: shopping\n",
      "\tTerm: store (1): convenient, , Neg=False\n"
     ]
    }
   ],
   "source": [
    "nlp.display_opinions(aspect_opinions[75])"
   ]
  },
  {
   "cell_type": "code",
   "execution_count": null,
   "metadata": {},
   "outputs": [
    {
     "name": "stdout",
     "output_type": "stream",
     "text": [
      "Aspect: bedrooms\n",
      "\tTerm: bed (1): comfy, , Neg=False\n",
      "Aspect: cuisine\n",
      "\tTerm: food (-1): hot, , Neg=True\n"
     ]
    }
   ],
   "source": [
    "nlp.display_opinions(aspect_opinions[29])"
   ]
  },
  {
   "cell_type": "markdown",
   "metadata": {},
   "source": [
    "And, as usual, we inspect the context using the show_context keyword argument:"
   ]
  },
  {
   "cell_type": "code",
   "execution_count": null,
   "metadata": {},
   "outputs": [
    {
     "name": "stdout",
     "output_type": "stream",
     "text": [
      "Aspect: building            Term: spot           Modif: pretty         \n",
      "Value: ['spot', 'fun', 'pretty', 'Neg=False', 0.5]\n",
      "Context: During the day the pool area is poorly run, but in the evenings the pool turns into a pretty fun nightlife spot.\n",
      "\n",
      "\n",
      "Aspect: service             Term: service        \n",
      "Value: ['service', 'poor', '', 'Neg=False', -1]\n",
      "Context: It's just really amateur hour here with the piss poor service and their bad attitudes and obnoxious patrons.\n",
      "\n",
      "\n",
      "Aspect: service             Term: attitudes      \n",
      "Value: ['attitudes', 'bad', '', 'Neg=False', -1]\n",
      "Context: It's just really amateur hour here with the piss poor service and their bad attitudes and obnoxious patrons.\n",
      "\n",
      "\n",
      "Aspect: staff               Term: patrons        \n",
      "Value: ['patrons', 'obnoxious', '', 'Neg=False', -1]\n",
      "Context: It's just really amateur hour here with the piss poor service and their bad attitudes and obnoxious patrons.\n",
      "\n",
      "\n"
     ]
    }
   ],
   "source": [
    "idx = 17\n",
    "text = reviews[idx].get('reviewText')\n",
    "nlp.advanced_parse_opinion(text, aspect_positions[idx], opinion_lexicon, modifiers, \n",
    "                           corenlp_port=9500, show_context=True)"
   ]
  },
  {
   "cell_type": "code",
   "execution_count": null,
   "metadata": {},
   "outputs": [
    {
     "name": "stdout",
     "output_type": "stream",
     "text": [
      "Aspect: pool                Term: pools          Modif: very           \n",
      "Value: ['pools', 'pretty', 'very', 'Neg=False', 2.0]\n",
      "Context: The rooms are extremely comfortable, the grounds are picture perfect and the pools are very pretty.\n",
      "\n",
      "\n"
     ]
    }
   ],
   "source": [
    "idx = 19\n",
    "text = reviews[idx].get('reviewText')\n",
    "nlp.advanced_parse_opinion(text, aspect_positions[idx], opinion_lexicon, modifiers, \n",
    "                           corenlp_port=9500, show_context=True)"
   ]
  },
  {
   "cell_type": "code",
   "execution_count": null,
   "metadata": {},
   "outputs": [
    {
     "name": "stdout",
     "output_type": "stream",
     "text": [
      "Aspect: facilities          Term: facilities     \n",
      "Value: ['facilities', 'clean', '', 'Neg=False', 1]\n",
      "Context: The facilities are clean and very well maintained.\n",
      "\n",
      "\n",
      "Aspect: staff               Term: staff          \n",
      "Value: ['staff', 'fantastic', '', 'Neg=False', 1]\n",
      "Context: Housekeeping staff is fantastic also.\n",
      "\n",
      "\n",
      "Aspect: staff               Term: staff          \n",
      "Value: ['staff', 'childish', '', 'Neg=False', -1]\n",
      "Context: Regardless, I was a bit bummed that the reception staff was childish and rude to me.\n",
      "\n",
      "\n",
      "Aspect: building            Term: spot           \n",
      "Value: ['spot', 'hot', '', 'Neg=False', 1]\n",
      "Context: So apparently, this hotel pool must be the hot spot for pool crashers.\n",
      "\n",
      "\n",
      "Aspect: shopping            Term: store          \n",
      "Value: ['store', 'convenient', '', 'Neg=False', 1]\n",
      "Context: There is a small convenient store next to the reception desk that sells wine, beer, water, soda, snacks, etc.\n",
      "\n",
      "\n"
     ]
    }
   ],
   "source": [
    "idx = 75\n",
    "text = reviews[idx].get('reviewText')\n",
    "nlp.advanced_parse_opinion(text, aspect_positions[idx], opinion_lexicon, modifiers, \n",
    "                           corenlp_port=9500, show_context=True)"
   ]
  },
  {
   "cell_type": "code",
   "execution_count": null,
   "metadata": {},
   "outputs": [
    {
     "name": "stdout",
     "output_type": "stream",
     "text": [
      "Aspect: bedrooms            Term: bed            \n",
      "Value: ['bed', 'comfy', '', 'Neg=False', 1]\n",
      "Context: The king size bed was comfy with fluffy pillows.\n",
      "\n",
      "\n",
      "Aspect: cuisine             Term: food           \n",
      "Value: ['food', 'hot', '', 'Neg=True', -1]\n",
      "Context: No hot food.\n",
      "\n",
      "\n"
     ]
    }
   ],
   "source": [
    "idx = 29\n",
    "text = reviews[idx].get('reviewText')\n",
    "nlp.advanced_parse_opinion(text, aspect_positions[idx], opinion_lexicon, modifiers, \n",
    "                           corenlp_port=9500, show_context=True)"
   ]
  },
  {
   "cell_type": "markdown",
   "metadata": {},
   "source": [
    "## 5. Opinion summarization\n",
    "\n",
    "### 5.0a) Final opinion extraction\n",
    "\n",
    "***Hotel Reviews***\n",
    "\n",
    "Final opinion extraction was made using the extended aspects (in the case of hotels, not restaurants/spas)."
   ]
  },
  {
   "cell_type": "code",
   "execution_count": null,
   "metadata": {},
   "outputs": [
    {
     "name": "stderr",
     "output_type": "stream",
     "text": [
      "Review progress: 100%|██████████| 5034/5034 [13:54<00:00,  6.03it/s]"
     ]
    },
    {
     "name": "stdout",
     "output_type": "stream",
     "text": [
      "{'building': [(0, 1), (0, 13), (5, 3), (5, 11), (6, 2)], 'transportation': [(0, 22), (6, 9)], 'location': [(1, 4), (2, 5)], 'shopping': [(3, 1)], 'bedrooms': [(3, 2)], 'pool': [(4, 1)], 'events': [(4, 4)], 'bar': [(5, 4)]}\n"
     ]
    },
    {
     "name": "stderr",
     "output_type": "stream",
     "text": [
      "\n"
     ]
    }
   ],
   "source": [
    "hotel_aspect_positions = []\n",
    "for i in tqdm(range(len(reviews)), desc=\"Review progress\"):\n",
    "    review = reviews[i]\n",
    "    text = review.get('reviewText')\n",
    "    hotel_aspect_positions.append(nlp.match_token(text,aspect_hotels_full,out=\"pos\"))\n",
    "    \n",
    "print(hotel_aspect_positions[0])"
   ]
  },
  {
   "cell_type": "markdown",
   "metadata": {},
   "source": [
    "***Restaurant Reviews*** (first 5.000)"
   ]
  },
  {
   "cell_type": "markdown",
   "metadata": {},
   "source": [
    "For restaurant and spa reviews the unextended aspects will be used. Furthermore, only the first 5.000 reviews of restaurants will be considered (total of >100.000)."
   ]
  },
  {
   "cell_type": "code",
   "execution_count": null,
   "metadata": {},
   "outputs": [
    {
     "name": "stdout",
     "output_type": "stream",
     "text": [
      "Review number: 5001\n",
      "{'breakfast': [(0, 9), (2, 13), (8, 5)], 'seating': [(1, 6)], 'staff': [(2, 1)], 'food': [(2, 6), (5, 7)], 'building': [(5, 10)], 'menu': [(6, 6), (7, 17)], 'eggs': [(6, 16)], 'vegetables': [(6, 17)], 'bread': [(7, 8)]}\n"
     ]
    }
   ],
   "source": [
    "line_parser = nlp.parse_lines('yelp_dataset/yelp_restaurants.json')\n",
    "\n",
    "i=0\n",
    "restaurant_aspect_positions = []\n",
    "for entry in line_parser:\n",
    "    i+=1\n",
    "    clear_output(wait=True)\n",
    "    print('Review number:', i)\n",
    "    text = entry.get('reviewText')\n",
    "    restaurant_aspect_positions.append(nlp.match_token(text,aspect_rs,out='pos'))\n",
    "    if i >5000:\n",
    "        break\n",
    "    \n",
    "print(restaurant_aspect_positions[0])"
   ]
  },
  {
   "cell_type": "markdown",
   "metadata": {},
   "source": [
    "***Spa Reviews***"
   ]
  },
  {
   "cell_type": "code",
   "execution_count": null,
   "metadata": {},
   "outputs": [
    {
     "name": "stdout",
     "output_type": "stream",
     "text": [
      "Review number: 5579\n",
      "{'shopping': [(0, 2)], 'service': [(5, 2)]}\n"
     ]
    }
   ],
   "source": [
    "line_parser = nlp.parse_lines('yelp_dataset/yelp_beauty_spas.json')\n",
    "\n",
    "i=0\n",
    "spa_aspect_positions = []\n",
    "for entry in line_parser:\n",
    "    i+=1\n",
    "    clear_output(wait=True)\n",
    "    print('Review number:', i)\n",
    "    text = entry.get('reviewText')\n",
    "    spa_aspect_positions.append(nlp.match_token(text,aspect_rs,out=\"pos\"))\n",
    "    \n",
    "print(spa_aspect_positions[0])"
   ]
  },
  {
   "cell_type": "markdown",
   "metadata": {},
   "source": [
    "### 5.0b) Final opinion parsing\n",
    "\n",
    "***Hotel Reviews***"
   ]
  },
  {
   "cell_type": "code",
   "execution_count": null,
   "metadata": {},
   "outputs": [
    {
     "name": "stderr",
     "output_type": "stream",
     "text": [
      "Review progress: 100%|██████████| 5034/5034 [48:44<00:00,  1.72it/s]  \n"
     ]
    }
   ],
   "source": [
    "hotel_aspect_opinions = []\n",
    "for i in tqdm(range(len(reviews)), desc=\"Review progress\"):\n",
    "    review = reviews[i]\n",
    "    text = review.get('reviewText')\n",
    "    hotel_aspect_opinions.append(nlp.advanced_parse_opinion(text, hotel_aspect_positions[i], \n",
    "                                                      opinion_lexicon, modifiers, corenlp_port=9500))"
   ]
  },
  {
   "cell_type": "markdown",
   "metadata": {},
   "source": [
    "***Restaurant Reviews***"
   ]
  },
  {
   "cell_type": "code",
   "execution_count": null,
   "metadata": {},
   "outputs": [
    {
     "name": "stdout",
     "output_type": "stream",
     "text": [
      "Review number: 5001\n"
     ]
    }
   ],
   "source": [
    "line_parser = nlp.parse_lines('yelp_dataset/yelp_restaurants.json')\n",
    "\n",
    "i=0\n",
    "restaurant_aspect_opinions = []\n",
    "for entry in line_parser:\n",
    "    i+=1\n",
    "    clear_output(wait=True)\n",
    "    print('Review number:', i)\n",
    "    text = entry.get('reviewText')\n",
    "    restaurant_aspect_opinions.append(nlp.advanced_parse_opinion(text, restaurant_aspect_positions[i-1], \n",
    "                                                      opinion_lexicon, modifiers, corenlp_port=9500))\n",
    "    if i>5000:\n",
    "        break"
   ]
  },
  {
   "cell_type": "code",
   "execution_count": null,
   "metadata": {},
   "outputs": [
    {
     "name": "stdout",
     "output_type": "stream",
     "text": [
      "Review number: 5579\n"
     ]
    }
   ],
   "source": [
    "line_parser = nlp.parse_lines('yelp_dataset/yelp_beauty_spas.json')\n",
    "\n",
    "i=0\n",
    "spa_aspect_opinions = []\n",
    "for entry in line_parser:\n",
    "    i+=1\n",
    "    clear_output(wait=True)\n",
    "    print('Review number:', i)\n",
    "    text = entry.get('reviewText')\n",
    "    spa_aspect_opinions.append(nlp.advanced_parse_opinion(text, spa_aspect_positions[i-1], \n",
    "                                                      opinion_lexicon, modifiers, corenlp_port=9500))"
   ]
  },
  {
   "cell_type": "markdown",
   "metadata": {},
   "source": [
    "***Save and load results***\n",
    "\n",
    "Opinion extraction and parsing take quite a while so they have been saved so you can skip these and load them:"
   ]
  },
  {
   "cell_type": "code",
   "execution_count": null,
   "metadata": {},
   "outputs": [],
   "source": [
    "with open('results/hotel_opinions.pickle', 'wb') as f:\n",
    "    pickle.dump(hotel_aspect_opinions, f)"
   ]
  },
  {
   "cell_type": "code",
   "execution_count": null,
   "metadata": {},
   "outputs": [],
   "source": [
    "with open('results/rest_opinions.pickle', 'wb') as f:\n",
    "    pickle.dump(restaurant_aspect_opinions, f)"
   ]
  },
  {
   "cell_type": "code",
   "execution_count": null,
   "metadata": {},
   "outputs": [],
   "source": [
    "with open('results/spa_opinions.pickle', 'wb') as f:\n",
    "    pickle.dump(spa_aspect_opinions, f)"
   ]
  },
  {
   "cell_type": "code",
   "execution_count": 31,
   "metadata": {},
   "outputs": [],
   "source": [
    "with open('results/hotel_opinions.pickle', 'rb') as f:\n",
    "    hotel_aspect_opinions = pickle.load(f)"
   ]
  },
  {
   "cell_type": "code",
   "execution_count": 32,
   "metadata": {},
   "outputs": [],
   "source": [
    "with open('results/rest_opinions.pickle', 'rb') as f:\n",
    "    restaurant_aspect_opinions = pickle.load(f)"
   ]
  },
  {
   "cell_type": "code",
   "execution_count": 33,
   "metadata": {},
   "outputs": [],
   "source": [
    "with open('results/spa_opinions.pickle', 'rb') as f:\n",
    "    spa_aspect_opinions = pickle.load(f)"
   ]
  },
  {
   "cell_type": "markdown",
   "metadata": {},
   "source": [
    "### 5.1 Aspect opinions of given reviews"
   ]
  },
  {
   "cell_type": "markdown",
   "metadata": {},
   "source": [
    "Remember we use a function to quickly show all aspect opinions. The structure of the output is:\n",
    "\n",
    "```Aspect: <aspect>\n",
    "        Term: <term> (final_polar): <opinion>, <modifier>, Neg=<bool>\n",
    "        ...\n",
    "   ...```"
   ]
  },
  {
   "cell_type": "markdown",
   "metadata": {},
   "source": [
    "***Hotel Reviews***"
   ]
  },
  {
   "cell_type": "code",
   "execution_count": 34,
   "metadata": {},
   "outputs": [
    {
     "name": "stdout",
     "output_type": "stream",
     "text": [
      "Review 0\n",
      "-----------\n",
      "\n",
      "Aspect: building\n",
      "\tTerm: hotel (1): great, , Neg=False\n",
      "\tTerm: place (1): great, , Neg=False\n",
      "Aspect: bedrooms\n",
      "\tTerm: rooms (1): great, , Neg=False\n",
      "Aspect: pool\n",
      "\tTerm: pool (1): awesome, , Neg=False\n",
      "Aspect: bar\n",
      "\tTerm: bar (1): great, , Neg=False\n",
      "\n",
      "\n",
      "\n",
      "Review 5\n",
      "-----------\n",
      "\n",
      "Aspect: cuisine\n",
      "\tTerm: food (1): delicious, , Neg=False\n",
      "Aspect: staff\n",
      "\tTerm: staff (1): attentive, , Neg=False\n",
      "\tTerm: staff (-1): grumpy, , Neg=False\n",
      "\tTerm: staff (-1): uncooperative, , Neg=False\n",
      "\tTerm: staff (-1): disinterested, , Neg=False\n",
      "\n",
      "\n",
      "\n",
      "Review 17\n",
      "-----------\n",
      "\n",
      "Aspect: location\n",
      "\tTerm: scene (1): improved, , Neg=False\n",
      "Aspect: events\n",
      "\tTerm: run (-1): poorly, , Neg=False\n",
      "\tTerm: fun (1): pretty, , Neg=False\n",
      "Aspect: building\n",
      "\tTerm: spot (0.5): fun, pretty, Neg=False\n",
      "Aspect: service\n",
      "\tTerm: service (-1): poor, , Neg=False\n",
      "\n",
      "\n",
      "\n"
     ]
    }
   ],
   "source": [
    "list_reviews = [0,5,17]\n",
    "\n",
    "for ri in list_reviews:\n",
    "    print(f\"Review {ri}\\n-----------\\n\")\n",
    "    nlp.display_opinions(hotel_aspect_opinions[ri])\n",
    "    print(\"\\n\\n\")"
   ]
  },
  {
   "cell_type": "markdown",
   "metadata": {},
   "source": [
    "***Restaurant Reviews***"
   ]
  },
  {
   "cell_type": "code",
   "execution_count": null,
   "metadata": {},
   "outputs": [
    {
     "name": "stdout",
     "output_type": "stream",
     "text": [
      "Review 3\n",
      "-----------\n",
      "\n",
      "Aspect: appetizers\n",
      "\tTerm: entrees (1): solid, , Neg=False\n",
      "Aspect: meat\n",
      "\tTerm: meat (1): tough, , Neg=False\n",
      "Aspect: staff\n",
      "\tTerm: chef (-0.5): unhappy, apparently, Neg=False\n",
      "\tTerm: chef (-1.0): unhappy, so, Neg=False\n",
      "Aspect: sauces\n",
      "\tTerm: sauce (1): delicious, , Neg=False\n",
      "Aspect: service\n",
      "\tTerm: service (-2.0): spotty, so, Neg=False\n",
      "\n",
      "\n",
      "\n",
      "Review 4\n",
      "-----------\n",
      "\n",
      "Aspect: food\n",
      "\tTerm: food (1): enough, , Neg=False\n",
      "\tTerm: food (1): good, , Neg=False\n",
      "Aspect: building\n",
      "\tTerm: building (1): cute, , Neg=False\n",
      "Aspect: menu\n",
      "\tTerm: menu (1): awesome, , Neg=False\n",
      "\tTerm: meals (2.0): delicious, very, Neg=False\n",
      "Aspect: vegetables\n",
      "\tTerm: peppers (-1.0): hot, too, Neg=False\n",
      "\n",
      "\n",
      "\n",
      "Review 12\n",
      "-----------\n",
      "\n",
      "Aspect: potatoes\n",
      "\tTerm: chips (1): complimentary, , Neg=False\n",
      "\n",
      "\n",
      "\n"
     ]
    }
   ],
   "source": [
    "list_reviews = [3,4,12]\n",
    "\n",
    "for ri in list_reviews:\n",
    "    print(f\"Review {ri}\\n-----------\\n\")\n",
    "    nlp.display_opinions(restaurant_aspect_opinions[ri])\n",
    "    print(\"\\n\\n\")"
   ]
  },
  {
   "cell_type": "markdown",
   "metadata": {},
   "source": [
    "***Spa Reviews***"
   ]
  },
  {
   "cell_type": "code",
   "execution_count": null,
   "metadata": {},
   "outputs": [
    {
     "name": "stdout",
     "output_type": "stream",
     "text": [
      "Review 0\n",
      "-----------\n",
      "\n",
      "Aspect: shopping\n",
      "\tTerm: shop (1): good, , Neg=False\n",
      "Aspect: service\n",
      "\tTerm: service (1): good, , Neg=False\n",
      "\n",
      "\n",
      "\n",
      "Review 1\n",
      "-----------\n",
      "\n",
      "Aspect: staff\n",
      "\tTerm: staff (2.0): friendly, extremely, Neg=False\n",
      "Aspect: price\n",
      "\tTerm: price (2.0): reasonable, very, Neg=False\n",
      "\n",
      "\n",
      "\n",
      "Review 12\n",
      "-----------\n",
      "\n",
      "Aspect: shopping\n",
      "\tTerm: mall (-1): weird, , Neg=False\n",
      "\n",
      "\n",
      "\n"
     ]
    }
   ],
   "source": [
    "list_reviews = [0,1,12]\n",
    "\n",
    "for ri in list_reviews:\n",
    "    print(f\"Review {ri}\\n-----------\\n\")\n",
    "    nlp.display_opinions(spa_aspect_opinions[ri])\n",
    "    print(\"\\n\\n\")"
   ]
  },
  {
   "cell_type": "markdown",
   "metadata": {},
   "source": [
    "### 5.2 Summary of aspect opinions\n",
    "\n",
    "***Hotel Reviews***\n",
    "\n",
    "Review #0"
   ]
  },
  {
   "cell_type": "code",
   "execution_count": 36,
   "metadata": {},
   "outputs": [
    {
     "data": {
      "text/html": [
       "<div>\n",
       "<style scoped>\n",
       "    .dataframe tbody tr th:only-of-type {\n",
       "        vertical-align: middle;\n",
       "    }\n",
       "\n",
       "    .dataframe tbody tr th {\n",
       "        vertical-align: top;\n",
       "    }\n",
       "\n",
       "    .dataframe thead th {\n",
       "        text-align: right;\n",
       "    }\n",
       "</style>\n",
       "<table border=\"1\" class=\"dataframe\">\n",
       "  <thead>\n",
       "    <tr style=\"text-align: right;\">\n",
       "      <th></th>\n",
       "      <th>Aspect</th>\n",
       "      <th>Positive count</th>\n",
       "      <th>Negative count</th>\n",
       "      <th>Total polarity</th>\n",
       "      <th>Mean polarity</th>\n",
       "      <th>Polarity variance</th>\n",
       "    </tr>\n",
       "  </thead>\n",
       "  <tbody>\n",
       "    <tr>\n",
       "      <th>0</th>\n",
       "      <td>building</td>\n",
       "      <td>2</td>\n",
       "      <td>0</td>\n",
       "      <td>2</td>\n",
       "      <td>1.0</td>\n",
       "      <td>0.0</td>\n",
       "    </tr>\n",
       "    <tr>\n",
       "      <th>1</th>\n",
       "      <td>bedrooms</td>\n",
       "      <td>1</td>\n",
       "      <td>0</td>\n",
       "      <td>1</td>\n",
       "      <td>1.0</td>\n",
       "      <td>0.0</td>\n",
       "    </tr>\n",
       "    <tr>\n",
       "      <th>2</th>\n",
       "      <td>pool</td>\n",
       "      <td>1</td>\n",
       "      <td>0</td>\n",
       "      <td>1</td>\n",
       "      <td>1.0</td>\n",
       "      <td>0.0</td>\n",
       "    </tr>\n",
       "    <tr>\n",
       "      <th>3</th>\n",
       "      <td>bar</td>\n",
       "      <td>1</td>\n",
       "      <td>0</td>\n",
       "      <td>1</td>\n",
       "      <td>1.0</td>\n",
       "      <td>0.0</td>\n",
       "    </tr>\n",
       "  </tbody>\n",
       "</table>\n",
       "</div>"
      ],
      "text/plain": [
       "     Aspect  Positive count  Negative count  Total polarity  Mean polarity  \\\n",
       "0  building               2               0               2            1.0   \n",
       "1  bedrooms               1               0               1            1.0   \n",
       "2      pool               1               0               1            1.0   \n",
       "3       bar               1               0               1            1.0   \n",
       "\n",
       "   Polarity variance  \n",
       "0                0.0  \n",
       "1                0.0  \n",
       "2                0.0  \n",
       "3                0.0  "
      ]
     },
     "execution_count": 36,
     "metadata": {},
     "output_type": "execute_result"
    }
   ],
   "source": [
    "summ = nlp.summarize(hotel_aspect_opinions[0])\n",
    "summ"
   ]
  },
  {
   "cell_type": "code",
   "execution_count": 37,
   "metadata": {},
   "outputs": [
    {
     "data": {
      "text/plain": [
       "Positive count       1.25\n",
       "Negative count       0.00\n",
       "Total polarity       1.25\n",
       "Mean polarity        1.00\n",
       "Polarity variance    0.00\n",
       "dtype: float64"
      ]
     },
     "execution_count": 37,
     "metadata": {},
     "output_type": "execute_result"
    }
   ],
   "source": [
    "# Means of each measure over all aspects\n",
    "# Might be a unified criterion to decide\n",
    "# where to stay\n",
    "summ[summ.columns[1:]].mean()"
   ]
  },
  {
   "cell_type": "markdown",
   "metadata": {},
   "source": [
    "Review #5"
   ]
  },
  {
   "cell_type": "code",
   "execution_count": 39,
   "metadata": {},
   "outputs": [
    {
     "data": {
      "text/html": [
       "<div>\n",
       "<style scoped>\n",
       "    .dataframe tbody tr th:only-of-type {\n",
       "        vertical-align: middle;\n",
       "    }\n",
       "\n",
       "    .dataframe tbody tr th {\n",
       "        vertical-align: top;\n",
       "    }\n",
       "\n",
       "    .dataframe thead th {\n",
       "        text-align: right;\n",
       "    }\n",
       "</style>\n",
       "<table border=\"1\" class=\"dataframe\">\n",
       "  <thead>\n",
       "    <tr style=\"text-align: right;\">\n",
       "      <th></th>\n",
       "      <th>Aspect</th>\n",
       "      <th>Positive count</th>\n",
       "      <th>Negative count</th>\n",
       "      <th>Total polarity</th>\n",
       "      <th>Mean polarity</th>\n",
       "      <th>Polarity variance</th>\n",
       "    </tr>\n",
       "  </thead>\n",
       "  <tbody>\n",
       "    <tr>\n",
       "      <th>0</th>\n",
       "      <td>cuisine</td>\n",
       "      <td>1</td>\n",
       "      <td>0</td>\n",
       "      <td>1</td>\n",
       "      <td>1.0</td>\n",
       "      <td>0.00</td>\n",
       "    </tr>\n",
       "    <tr>\n",
       "      <th>1</th>\n",
       "      <td>staff</td>\n",
       "      <td>1</td>\n",
       "      <td>3</td>\n",
       "      <td>-2</td>\n",
       "      <td>-0.5</td>\n",
       "      <td>0.75</td>\n",
       "    </tr>\n",
       "  </tbody>\n",
       "</table>\n",
       "</div>"
      ],
      "text/plain": [
       "    Aspect  Positive count  Negative count  Total polarity  Mean polarity  \\\n",
       "0  cuisine               1               0               1            1.0   \n",
       "1    staff               1               3              -2           -0.5   \n",
       "\n",
       "   Polarity variance  \n",
       "0               0.00  \n",
       "1               0.75  "
      ]
     },
     "execution_count": 39,
     "metadata": {},
     "output_type": "execute_result"
    }
   ],
   "source": [
    "summ = nlp.summarize(hotel_aspect_opinions[5])\n",
    "summ"
   ]
  },
  {
   "cell_type": "code",
   "execution_count": 40,
   "metadata": {},
   "outputs": [
    {
     "data": {
      "text/plain": [
       "Positive count       1.000\n",
       "Negative count       1.500\n",
       "Total polarity      -0.500\n",
       "Mean polarity        0.250\n",
       "Polarity variance    0.375\n",
       "dtype: float64"
      ]
     },
     "execution_count": 40,
     "metadata": {},
     "output_type": "execute_result"
    }
   ],
   "source": [
    "summ[summ.columns[1:]].mean()"
   ]
  },
  {
   "cell_type": "markdown",
   "metadata": {},
   "source": [
    "Review #17"
   ]
  },
  {
   "cell_type": "code",
   "execution_count": 41,
   "metadata": {},
   "outputs": [
    {
     "data": {
      "text/html": [
       "<div>\n",
       "<style scoped>\n",
       "    .dataframe tbody tr th:only-of-type {\n",
       "        vertical-align: middle;\n",
       "    }\n",
       "\n",
       "    .dataframe tbody tr th {\n",
       "        vertical-align: top;\n",
       "    }\n",
       "\n",
       "    .dataframe thead th {\n",
       "        text-align: right;\n",
       "    }\n",
       "</style>\n",
       "<table border=\"1\" class=\"dataframe\">\n",
       "  <thead>\n",
       "    <tr style=\"text-align: right;\">\n",
       "      <th></th>\n",
       "      <th>Aspect</th>\n",
       "      <th>Positive count</th>\n",
       "      <th>Negative count</th>\n",
       "      <th>Total polarity</th>\n",
       "      <th>Mean polarity</th>\n",
       "      <th>Polarity variance</th>\n",
       "    </tr>\n",
       "  </thead>\n",
       "  <tbody>\n",
       "    <tr>\n",
       "      <th>0</th>\n",
       "      <td>location</td>\n",
       "      <td>1</td>\n",
       "      <td>0</td>\n",
       "      <td>1.0</td>\n",
       "      <td>1.0</td>\n",
       "      <td>0.0</td>\n",
       "    </tr>\n",
       "    <tr>\n",
       "      <th>1</th>\n",
       "      <td>building</td>\n",
       "      <td>1</td>\n",
       "      <td>0</td>\n",
       "      <td>0.5</td>\n",
       "      <td>0.5</td>\n",
       "      <td>0.0</td>\n",
       "    </tr>\n",
       "    <tr>\n",
       "      <th>2</th>\n",
       "      <td>events</td>\n",
       "      <td>1</td>\n",
       "      <td>1</td>\n",
       "      <td>0.0</td>\n",
       "      <td>0.0</td>\n",
       "      <td>1.0</td>\n",
       "    </tr>\n",
       "    <tr>\n",
       "      <th>3</th>\n",
       "      <td>service</td>\n",
       "      <td>0</td>\n",
       "      <td>1</td>\n",
       "      <td>-1.0</td>\n",
       "      <td>-1.0</td>\n",
       "      <td>0.0</td>\n",
       "    </tr>\n",
       "  </tbody>\n",
       "</table>\n",
       "</div>"
      ],
      "text/plain": [
       "     Aspect  Positive count  Negative count  Total polarity  Mean polarity  \\\n",
       "0  location               1               0             1.0            1.0   \n",
       "1  building               1               0             0.5            0.5   \n",
       "2    events               1               1             0.0            0.0   \n",
       "3   service               0               1            -1.0           -1.0   \n",
       "\n",
       "   Polarity variance  \n",
       "0                0.0  \n",
       "1                0.0  \n",
       "2                1.0  \n",
       "3                0.0  "
      ]
     },
     "execution_count": 41,
     "metadata": {},
     "output_type": "execute_result"
    }
   ],
   "source": [
    "summ = nlp.summarize(hotel_aspect_opinions[17])\n",
    "summ"
   ]
  },
  {
   "cell_type": "code",
   "execution_count": 42,
   "metadata": {},
   "outputs": [
    {
     "data": {
      "text/plain": [
       "Positive count       0.750\n",
       "Negative count       0.500\n",
       "Total polarity       0.125\n",
       "Mean polarity        0.125\n",
       "Polarity variance    0.250\n",
       "dtype: float64"
      ]
     },
     "execution_count": 42,
     "metadata": {},
     "output_type": "execute_result"
    }
   ],
   "source": [
    "summ[summ.columns[1:]].mean()"
   ]
  },
  {
   "cell_type": "markdown",
   "metadata": {},
   "source": [
    "***Restaurant Reviews***\n",
    "\n",
    "Review #3"
   ]
  },
  {
   "cell_type": "code",
   "execution_count": 43,
   "metadata": {},
   "outputs": [
    {
     "data": {
      "text/html": [
       "<div>\n",
       "<style scoped>\n",
       "    .dataframe tbody tr th:only-of-type {\n",
       "        vertical-align: middle;\n",
       "    }\n",
       "\n",
       "    .dataframe tbody tr th {\n",
       "        vertical-align: top;\n",
       "    }\n",
       "\n",
       "    .dataframe thead th {\n",
       "        text-align: right;\n",
       "    }\n",
       "</style>\n",
       "<table border=\"1\" class=\"dataframe\">\n",
       "  <thead>\n",
       "    <tr style=\"text-align: right;\">\n",
       "      <th></th>\n",
       "      <th>Aspect</th>\n",
       "      <th>Positive count</th>\n",
       "      <th>Negative count</th>\n",
       "      <th>Total polarity</th>\n",
       "      <th>Mean polarity</th>\n",
       "      <th>Polarity variance</th>\n",
       "    </tr>\n",
       "  </thead>\n",
       "  <tbody>\n",
       "    <tr>\n",
       "      <th>0</th>\n",
       "      <td>appetizers</td>\n",
       "      <td>1</td>\n",
       "      <td>0</td>\n",
       "      <td>1.0</td>\n",
       "      <td>1.00</td>\n",
       "      <td>0.0000</td>\n",
       "    </tr>\n",
       "    <tr>\n",
       "      <th>1</th>\n",
       "      <td>meat</td>\n",
       "      <td>1</td>\n",
       "      <td>0</td>\n",
       "      <td>1.0</td>\n",
       "      <td>1.00</td>\n",
       "      <td>0.0000</td>\n",
       "    </tr>\n",
       "    <tr>\n",
       "      <th>2</th>\n",
       "      <td>sauces</td>\n",
       "      <td>1</td>\n",
       "      <td>0</td>\n",
       "      <td>1.0</td>\n",
       "      <td>1.00</td>\n",
       "      <td>0.0000</td>\n",
       "    </tr>\n",
       "    <tr>\n",
       "      <th>3</th>\n",
       "      <td>staff</td>\n",
       "      <td>0</td>\n",
       "      <td>2</td>\n",
       "      <td>-1.5</td>\n",
       "      <td>-0.75</td>\n",
       "      <td>0.0625</td>\n",
       "    </tr>\n",
       "    <tr>\n",
       "      <th>4</th>\n",
       "      <td>service</td>\n",
       "      <td>0</td>\n",
       "      <td>1</td>\n",
       "      <td>-2.0</td>\n",
       "      <td>-2.00</td>\n",
       "      <td>0.0000</td>\n",
       "    </tr>\n",
       "  </tbody>\n",
       "</table>\n",
       "</div>"
      ],
      "text/plain": [
       "       Aspect  Positive count  Negative count  Total polarity  Mean polarity  \\\n",
       "0  appetizers               1               0             1.0           1.00   \n",
       "1        meat               1               0             1.0           1.00   \n",
       "2      sauces               1               0             1.0           1.00   \n",
       "3       staff               0               2            -1.5          -0.75   \n",
       "4     service               0               1            -2.0          -2.00   \n",
       "\n",
       "   Polarity variance  \n",
       "0             0.0000  \n",
       "1             0.0000  \n",
       "2             0.0000  \n",
       "3             0.0625  \n",
       "4             0.0000  "
      ]
     },
     "execution_count": 43,
     "metadata": {},
     "output_type": "execute_result"
    }
   ],
   "source": [
    "summ = nlp.summarize(restaurant_aspect_opinions[3])\n",
    "summ"
   ]
  },
  {
   "cell_type": "code",
   "execution_count": 44,
   "metadata": {},
   "outputs": [
    {
     "data": {
      "text/plain": [
       "Positive count       0.6000\n",
       "Negative count       0.6000\n",
       "Total polarity      -0.1000\n",
       "Mean polarity        0.0500\n",
       "Polarity variance    0.0125\n",
       "dtype: float64"
      ]
     },
     "execution_count": 44,
     "metadata": {},
     "output_type": "execute_result"
    }
   ],
   "source": [
    "summ[summ.columns[1:]].mean()"
   ]
  },
  {
   "cell_type": "markdown",
   "metadata": {},
   "source": [
    "Review #4"
   ]
  },
  {
   "cell_type": "code",
   "execution_count": 45,
   "metadata": {},
   "outputs": [
    {
     "data": {
      "text/html": [
       "<div>\n",
       "<style scoped>\n",
       "    .dataframe tbody tr th:only-of-type {\n",
       "        vertical-align: middle;\n",
       "    }\n",
       "\n",
       "    .dataframe tbody tr th {\n",
       "        vertical-align: top;\n",
       "    }\n",
       "\n",
       "    .dataframe thead th {\n",
       "        text-align: right;\n",
       "    }\n",
       "</style>\n",
       "<table border=\"1\" class=\"dataframe\">\n",
       "  <thead>\n",
       "    <tr style=\"text-align: right;\">\n",
       "      <th></th>\n",
       "      <th>Aspect</th>\n",
       "      <th>Positive count</th>\n",
       "      <th>Negative count</th>\n",
       "      <th>Total polarity</th>\n",
       "      <th>Mean polarity</th>\n",
       "      <th>Polarity variance</th>\n",
       "    </tr>\n",
       "  </thead>\n",
       "  <tbody>\n",
       "    <tr>\n",
       "      <th>0</th>\n",
       "      <td>menu</td>\n",
       "      <td>2</td>\n",
       "      <td>0</td>\n",
       "      <td>3.0</td>\n",
       "      <td>1.5</td>\n",
       "      <td>0.25</td>\n",
       "    </tr>\n",
       "    <tr>\n",
       "      <th>1</th>\n",
       "      <td>food</td>\n",
       "      <td>2</td>\n",
       "      <td>0</td>\n",
       "      <td>2.0</td>\n",
       "      <td>1.0</td>\n",
       "      <td>0.00</td>\n",
       "    </tr>\n",
       "    <tr>\n",
       "      <th>2</th>\n",
       "      <td>building</td>\n",
       "      <td>1</td>\n",
       "      <td>0</td>\n",
       "      <td>1.0</td>\n",
       "      <td>1.0</td>\n",
       "      <td>0.00</td>\n",
       "    </tr>\n",
       "    <tr>\n",
       "      <th>3</th>\n",
       "      <td>vegetables</td>\n",
       "      <td>0</td>\n",
       "      <td>1</td>\n",
       "      <td>-1.0</td>\n",
       "      <td>-1.0</td>\n",
       "      <td>0.00</td>\n",
       "    </tr>\n",
       "  </tbody>\n",
       "</table>\n",
       "</div>"
      ],
      "text/plain": [
       "       Aspect  Positive count  Negative count  Total polarity  Mean polarity  \\\n",
       "0        menu               2               0             3.0            1.5   \n",
       "1        food               2               0             2.0            1.0   \n",
       "2    building               1               0             1.0            1.0   \n",
       "3  vegetables               0               1            -1.0           -1.0   \n",
       "\n",
       "   Polarity variance  \n",
       "0               0.25  \n",
       "1               0.00  \n",
       "2               0.00  \n",
       "3               0.00  "
      ]
     },
     "execution_count": 45,
     "metadata": {},
     "output_type": "execute_result"
    }
   ],
   "source": [
    "summ = nlp.summarize(restaurant_aspect_opinions[4])\n",
    "summ"
   ]
  },
  {
   "cell_type": "code",
   "execution_count": 47,
   "metadata": {},
   "outputs": [
    {
     "data": {
      "text/plain": [
       "Positive count       1.2500\n",
       "Negative count       0.2500\n",
       "Total polarity       1.2500\n",
       "Mean polarity        0.6250\n",
       "Polarity variance    0.0625\n",
       "dtype: float64"
      ]
     },
     "execution_count": 47,
     "metadata": {},
     "output_type": "execute_result"
    }
   ],
   "source": [
    "summ[summ.columns[1:]].mean()"
   ]
  },
  {
   "cell_type": "markdown",
   "metadata": {},
   "source": [
    "Review #12"
   ]
  },
  {
   "cell_type": "code",
   "execution_count": 48,
   "metadata": {},
   "outputs": [
    {
     "data": {
      "text/html": [
       "<div>\n",
       "<style scoped>\n",
       "    .dataframe tbody tr th:only-of-type {\n",
       "        vertical-align: middle;\n",
       "    }\n",
       "\n",
       "    .dataframe tbody tr th {\n",
       "        vertical-align: top;\n",
       "    }\n",
       "\n",
       "    .dataframe thead th {\n",
       "        text-align: right;\n",
       "    }\n",
       "</style>\n",
       "<table border=\"1\" class=\"dataframe\">\n",
       "  <thead>\n",
       "    <tr style=\"text-align: right;\">\n",
       "      <th></th>\n",
       "      <th>Aspect</th>\n",
       "      <th>Positive count</th>\n",
       "      <th>Negative count</th>\n",
       "      <th>Total polarity</th>\n",
       "      <th>Mean polarity</th>\n",
       "      <th>Polarity variance</th>\n",
       "    </tr>\n",
       "  </thead>\n",
       "  <tbody>\n",
       "    <tr>\n",
       "      <th>0</th>\n",
       "      <td>potatoes</td>\n",
       "      <td>1</td>\n",
       "      <td>0</td>\n",
       "      <td>1</td>\n",
       "      <td>1.0</td>\n",
       "      <td>0.0</td>\n",
       "    </tr>\n",
       "  </tbody>\n",
       "</table>\n",
       "</div>"
      ],
      "text/plain": [
       "     Aspect  Positive count  Negative count  Total polarity  Mean polarity  \\\n",
       "0  potatoes               1               0               1            1.0   \n",
       "\n",
       "   Polarity variance  \n",
       "0                0.0  "
      ]
     },
     "execution_count": 48,
     "metadata": {},
     "output_type": "execute_result"
    }
   ],
   "source": [
    "summ = nlp.summarize(restaurant_aspect_opinions[12])\n",
    "summ"
   ]
  },
  {
   "cell_type": "code",
   "execution_count": 49,
   "metadata": {},
   "outputs": [
    {
     "data": {
      "text/plain": [
       "Positive count       1.0\n",
       "Negative count       0.0\n",
       "Total polarity       1.0\n",
       "Mean polarity        1.0\n",
       "Polarity variance    0.0\n",
       "dtype: float64"
      ]
     },
     "execution_count": 49,
     "metadata": {},
     "output_type": "execute_result"
    }
   ],
   "source": [
    "summ[summ.columns[1:]].mean()"
   ]
  },
  {
   "cell_type": "markdown",
   "metadata": {},
   "source": [
    "***Spa Reviews***\n",
    "\n",
    "Review #0"
   ]
  },
  {
   "cell_type": "code",
   "execution_count": 50,
   "metadata": {},
   "outputs": [
    {
     "data": {
      "text/html": [
       "<div>\n",
       "<style scoped>\n",
       "    .dataframe tbody tr th:only-of-type {\n",
       "        vertical-align: middle;\n",
       "    }\n",
       "\n",
       "    .dataframe tbody tr th {\n",
       "        vertical-align: top;\n",
       "    }\n",
       "\n",
       "    .dataframe thead th {\n",
       "        text-align: right;\n",
       "    }\n",
       "</style>\n",
       "<table border=\"1\" class=\"dataframe\">\n",
       "  <thead>\n",
       "    <tr style=\"text-align: right;\">\n",
       "      <th></th>\n",
       "      <th>Aspect</th>\n",
       "      <th>Positive count</th>\n",
       "      <th>Negative count</th>\n",
       "      <th>Total polarity</th>\n",
       "      <th>Mean polarity</th>\n",
       "      <th>Polarity variance</th>\n",
       "    </tr>\n",
       "  </thead>\n",
       "  <tbody>\n",
       "    <tr>\n",
       "      <th>0</th>\n",
       "      <td>shopping</td>\n",
       "      <td>1</td>\n",
       "      <td>0</td>\n",
       "      <td>1</td>\n",
       "      <td>1.0</td>\n",
       "      <td>0.0</td>\n",
       "    </tr>\n",
       "    <tr>\n",
       "      <th>1</th>\n",
       "      <td>service</td>\n",
       "      <td>1</td>\n",
       "      <td>0</td>\n",
       "      <td>1</td>\n",
       "      <td>1.0</td>\n",
       "      <td>0.0</td>\n",
       "    </tr>\n",
       "  </tbody>\n",
       "</table>\n",
       "</div>"
      ],
      "text/plain": [
       "     Aspect  Positive count  Negative count  Total polarity  Mean polarity  \\\n",
       "0  shopping               1               0               1            1.0   \n",
       "1   service               1               0               1            1.0   \n",
       "\n",
       "   Polarity variance  \n",
       "0                0.0  \n",
       "1                0.0  "
      ]
     },
     "execution_count": 50,
     "metadata": {},
     "output_type": "execute_result"
    }
   ],
   "source": [
    "summ = nlp.summarize(spa_aspect_opinions[0])\n",
    "summ"
   ]
  },
  {
   "cell_type": "code",
   "execution_count": 51,
   "metadata": {},
   "outputs": [
    {
     "data": {
      "text/plain": [
       "Positive count       1.0\n",
       "Negative count       0.0\n",
       "Total polarity       1.0\n",
       "Mean polarity        1.0\n",
       "Polarity variance    0.0\n",
       "dtype: float64"
      ]
     },
     "execution_count": 51,
     "metadata": {},
     "output_type": "execute_result"
    }
   ],
   "source": [
    "summ[summ.columns[1:]].mean()"
   ]
  },
  {
   "cell_type": "markdown",
   "metadata": {},
   "source": [
    "Review #1"
   ]
  },
  {
   "cell_type": "code",
   "execution_count": 52,
   "metadata": {},
   "outputs": [
    {
     "data": {
      "text/html": [
       "<div>\n",
       "<style scoped>\n",
       "    .dataframe tbody tr th:only-of-type {\n",
       "        vertical-align: middle;\n",
       "    }\n",
       "\n",
       "    .dataframe tbody tr th {\n",
       "        vertical-align: top;\n",
       "    }\n",
       "\n",
       "    .dataframe thead th {\n",
       "        text-align: right;\n",
       "    }\n",
       "</style>\n",
       "<table border=\"1\" class=\"dataframe\">\n",
       "  <thead>\n",
       "    <tr style=\"text-align: right;\">\n",
       "      <th></th>\n",
       "      <th>Aspect</th>\n",
       "      <th>Positive count</th>\n",
       "      <th>Negative count</th>\n",
       "      <th>Total polarity</th>\n",
       "      <th>Mean polarity</th>\n",
       "      <th>Polarity variance</th>\n",
       "    </tr>\n",
       "  </thead>\n",
       "  <tbody>\n",
       "    <tr>\n",
       "      <th>0</th>\n",
       "      <td>staff</td>\n",
       "      <td>1</td>\n",
       "      <td>0</td>\n",
       "      <td>2.0</td>\n",
       "      <td>2.0</td>\n",
       "      <td>0.0</td>\n",
       "    </tr>\n",
       "    <tr>\n",
       "      <th>1</th>\n",
       "      <td>price</td>\n",
       "      <td>1</td>\n",
       "      <td>0</td>\n",
       "      <td>2.0</td>\n",
       "      <td>2.0</td>\n",
       "      <td>0.0</td>\n",
       "    </tr>\n",
       "  </tbody>\n",
       "</table>\n",
       "</div>"
      ],
      "text/plain": [
       "  Aspect  Positive count  Negative count  Total polarity  Mean polarity  \\\n",
       "0  staff               1               0             2.0            2.0   \n",
       "1  price               1               0             2.0            2.0   \n",
       "\n",
       "   Polarity variance  \n",
       "0                0.0  \n",
       "1                0.0  "
      ]
     },
     "execution_count": 52,
     "metadata": {},
     "output_type": "execute_result"
    }
   ],
   "source": [
    "summ = nlp.summarize(spa_aspect_opinions[1])\n",
    "summ"
   ]
  },
  {
   "cell_type": "code",
   "execution_count": 53,
   "metadata": {},
   "outputs": [
    {
     "data": {
      "text/plain": [
       "Positive count       1.0\n",
       "Negative count       0.0\n",
       "Total polarity       2.0\n",
       "Mean polarity        2.0\n",
       "Polarity variance    0.0\n",
       "dtype: float64"
      ]
     },
     "execution_count": 53,
     "metadata": {},
     "output_type": "execute_result"
    }
   ],
   "source": [
    "summ[summ.columns[1:]].mean()"
   ]
  },
  {
   "cell_type": "markdown",
   "metadata": {},
   "source": [
    "Review #12"
   ]
  },
  {
   "cell_type": "code",
   "execution_count": null,
   "metadata": {},
   "outputs": [
    {
     "data": {
      "text/html": [
       "<div>\n",
       "<style scoped>\n",
       "    .dataframe tbody tr th:only-of-type {\n",
       "        vertical-align: middle;\n",
       "    }\n",
       "\n",
       "    .dataframe tbody tr th {\n",
       "        vertical-align: top;\n",
       "    }\n",
       "\n",
       "    .dataframe thead th {\n",
       "        text-align: right;\n",
       "    }\n",
       "</style>\n",
       "<table border=\"1\" class=\"dataframe\">\n",
       "  <thead>\n",
       "    <tr style=\"text-align: right;\">\n",
       "      <th></th>\n",
       "      <th>Aspect</th>\n",
       "      <th>Positive count</th>\n",
       "      <th>Negative count</th>\n",
       "      <th>Total polarity</th>\n",
       "      <th>Mean polarity</th>\n",
       "      <th>Polarity variance</th>\n",
       "    </tr>\n",
       "  </thead>\n",
       "  <tbody>\n",
       "    <tr>\n",
       "      <th>0</th>\n",
       "      <td>shopping</td>\n",
       "      <td>0</td>\n",
       "      <td>1</td>\n",
       "      <td>-1</td>\n",
       "      <td>-1.0</td>\n",
       "      <td>0.0</td>\n",
       "    </tr>\n",
       "  </tbody>\n",
       "</table>\n",
       "</div>"
      ],
      "text/plain": [
       "     Aspect  Positive count  Negative count  Total polarity  Mean polarity  \\\n",
       "0  shopping               0               1              -1           -1.0   \n",
       "\n",
       "   Polarity variance  \n",
       "0                0.0  "
      ]
     },
     "execution_count": 64,
     "metadata": {},
     "output_type": "execute_result"
    }
   ],
   "source": [
    "nlp.summarize(spa_aspect_opinions[12])"
   ]
  },
  {
   "cell_type": "code",
   "execution_count": 54,
   "metadata": {},
   "outputs": [
    {
     "data": {
      "text/plain": [
       "Positive count       1.0\n",
       "Negative count       0.0\n",
       "Total polarity       2.0\n",
       "Mean polarity        2.0\n",
       "Polarity variance    0.0\n",
       "dtype: float64"
      ]
     },
     "execution_count": 54,
     "metadata": {},
     "output_type": "execute_result"
    }
   ],
   "source": [
    "summ[summ.columns[1:]].mean()"
   ]
  },
  {
   "cell_type": "markdown",
   "metadata": {},
   "source": [
    "### 5.3 Manual evaluation\n",
    "\n",
    "A manual evaluation of the current workflow for opinion analysis was performed by checking:\n",
    "* How many opinions identified were correct $\\Rightarrow$ Precision\n",
    "* How many relevant opinions were found in the analysis $\\Rightarrow$ Recall\n",
    "\n",
    "for only the first 20 hotel reviews."
   ]
  },
  {
   "cell_type": "code",
   "execution_count": 56,
   "metadata": {},
   "outputs": [
    {
     "name": "stdout",
     "output_type": "stream",
     "text": [
      "Precision: 0.847\n"
     ]
    }
   ],
   "source": [
    "# Each number is from one review (0-19)\n",
    "num_correct = 4 + 0 + 4 + 2 + 5 + 2 + 6 + 1 + 1 + 2 + 1 + \\\n",
    "              5 + 1 + 8 + 2 + 4 + 1 + 1\n",
    "\n",
    "num_opinions = 0\n",
    "for i in range(20):\n",
    "    for asp in hotel_aspect_opinions[i].keys():\n",
    "        for term in hotel_aspect_opinions[i][asp]:\n",
    "            num_opinions += 1\n",
    "print(f\"Precision: {round(num_correct/num_opinions,3)}\")"
   ]
  },
  {
   "cell_type": "code",
   "execution_count": 57,
   "metadata": {},
   "outputs": [
    {
     "name": "stdout",
     "output_type": "stream",
     "text": [
      "Recall: 0.272\n"
     ]
    }
   ],
   "source": [
    "# Each number is from one review (0-19)\n",
    "num_relevant = 10 + 9 + 15 + 6 + 12 + 10 + 9 + 13 + 6 + 6 + \\\n",
    "               3 + 7 + 2 + 17 + 4 + 18 + 7 + 20 + 5 + 5\n",
    "\n",
    "print(f\"Recall: {round(num_correct/num_relevant,3)}\")"
   ]
  },
  {
   "cell_type": "markdown",
   "metadata": {},
   "source": [
    "Conclusions: \n",
    "\n",
    "* While this analysis makes some important mistakes (i.e. consider a negative opinion about a different hotel as a negative opinion about this hotel or \"missinterpreting\" a phrase), most of the opinions identified are correct. \n",
    "\n",
    "* On the other hand, very few of all relevant opinions are actually picked up by the parsing methods. There is probably room for improvement, but many opinions are too subtle for a matching terms approach.\n",
    "\n",
    "* In the absence of a better analysis pipeline, this method might be decent enough to make decisions about which hotel to stay in."
   ]
  }
 ],
 "metadata": {
  "kernelspec": {
   "display_name": "Python 3",
   "language": "python",
   "name": "python3"
  },
  "language_info": {
   "codemirror_mode": {
    "name": "ipython",
    "version": 3
   },
   "file_extension": ".py",
   "mimetype": "text/x-python",
   "name": "python",
   "nbconvert_exporter": "python",
   "pygments_lexer": "ipython3",
   "version": "3.8.10"
  }
 },
 "nbformat": 4,
 "nbformat_minor": 4
}
